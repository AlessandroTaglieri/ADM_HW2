{
 "cells": [
  {
   "cell_type": "markdown",
   "metadata": {},
   "source": [
    "# Free your mind! \n",
    "\n",
    "* We have choosen to study the different age in all five main Europe championships (premier league- liga - serie a - bundesliga - ligue 1). This study has been done for all players and for different role. The results were shown with differents barplot.\n",
    "\n"
   ]
  },
  {
   "cell_type": "code",
   "execution_count": 58,
   "metadata": {},
   "outputs": [],
   "source": [
    "import json \n",
    "from datetime import date\n",
    "import seaborn as sns\n",
    "import matplotlib.pyplot as plt\n",
    "import pandas as pd \n",
    "from pandas.io.json import json_normalize #package for flattening json in pandas df\n",
    "\n"
   ]
  },
  {
   "cell_type": "markdown",
   "metadata": {},
   "source": [
    "# Import data"
   ]
  },
  {
   "cell_type": "code",
   "execution_count": 59,
   "metadata": {},
   "outputs": [],
   "source": [
    "#load teams.json in df_teams dataframe\n",
    "with open('/Users/digitalfirst/Desktop/homework_dataFrame/teams.json') as f:\n",
    "    teams = json.load(f)\n",
    "df_teams = json_normalize(teams)\n",
    "\n",
    "#load players.json on a 'palers' dataframe\n",
    "with open('/Users/digitalfirst/Desktop/homework_dataFrame/players.json') as f:\n",
    "    d = json.load(f)\n",
    "players = json_normalize(d)"
   ]
  },
  {
   "cell_type": "code",
   "execution_count": 60,
   "metadata": {},
   "outputs": [
    {
     "data": {
      "text/html": [
       "<div>\n",
       "<style scoped>\n",
       "    .dataframe tbody tr th:only-of-type {\n",
       "        vertical-align: middle;\n",
       "    }\n",
       "\n",
       "    .dataframe tbody tr th {\n",
       "        vertical-align: top;\n",
       "    }\n",
       "\n",
       "    .dataframe thead th {\n",
       "        text-align: right;\n",
       "    }\n",
       "</style>\n",
       "<table border=\"1\" class=\"dataframe\">\n",
       "  <thead>\n",
       "    <tr style=\"text-align: right;\">\n",
       "      <th></th>\n",
       "      <th>area.alpha2code</th>\n",
       "      <th>area.alpha3code</th>\n",
       "      <th>area.id</th>\n",
       "      <th>area.name</th>\n",
       "      <th>city</th>\n",
       "      <th>name</th>\n",
       "      <th>officialName</th>\n",
       "      <th>type</th>\n",
       "      <th>wyId</th>\n",
       "    </tr>\n",
       "  </thead>\n",
       "  <tbody>\n",
       "    <tr>\n",
       "      <th>18</th>\n",
       "      <td>IT</td>\n",
       "      <td>ITA</td>\n",
       "      <td>380</td>\n",
       "      <td>Italy</td>\n",
       "      <td>Ferrara</td>\n",
       "      <td>SPAL</td>\n",
       "      <td>Societ\\u00e0 Polisportiva Ars et Labor 2013</td>\n",
       "      <td>club</td>\n",
       "      <td>3204</td>\n",
       "    </tr>\n",
       "    <tr>\n",
       "      <th>34</th>\n",
       "      <td>IT</td>\n",
       "      <td>ITA</td>\n",
       "      <td>380</td>\n",
       "      <td>Italy</td>\n",
       "      <td>Milano</td>\n",
       "      <td>Milan</td>\n",
       "      <td>AC Milan</td>\n",
       "      <td>club</td>\n",
       "      <td>3157</td>\n",
       "    </tr>\n",
       "    <tr>\n",
       "      <th>36</th>\n",
       "      <td>IT</td>\n",
       "      <td>ITA</td>\n",
       "      <td>380</td>\n",
       "      <td>Italy</td>\n",
       "      <td>Torino</td>\n",
       "      <td>Juventus</td>\n",
       "      <td>Juventus FC</td>\n",
       "      <td>club</td>\n",
       "      <td>3159</td>\n",
       "    </tr>\n",
       "    <tr>\n",
       "      <th>37</th>\n",
       "      <td>IT</td>\n",
       "      <td>ITA</td>\n",
       "      <td>380</td>\n",
       "      <td>Italy</td>\n",
       "      <td>Roma</td>\n",
       "      <td>Roma</td>\n",
       "      <td>AS Roma</td>\n",
       "      <td>club</td>\n",
       "      <td>3158</td>\n",
       "    </tr>\n",
       "    <tr>\n",
       "      <th>38</th>\n",
       "      <td>IT</td>\n",
       "      <td>ITA</td>\n",
       "      <td>380</td>\n",
       "      <td>Italy</td>\n",
       "      <td>Sassuolo</td>\n",
       "      <td>Sassuolo</td>\n",
       "      <td>US Sassuolo Calcio</td>\n",
       "      <td>club</td>\n",
       "      <td>3315</td>\n",
       "    </tr>\n",
       "    <tr>\n",
       "      <th>47</th>\n",
       "      <td>IT</td>\n",
       "      <td>ITA</td>\n",
       "      <td>380</td>\n",
       "      <td>Italy</td>\n",
       "      <td>Bologna</td>\n",
       "      <td>Bologna</td>\n",
       "      <td>Bologna FC 1909</td>\n",
       "      <td>club</td>\n",
       "      <td>3166</td>\n",
       "    </tr>\n",
       "  </tbody>\n",
       "</table>\n",
       "</div>"
      ],
      "text/plain": [
       "   area.alpha2code area.alpha3code area.id area.name      city      name  \\\n",
       "18              IT             ITA     380     Italy   Ferrara      SPAL   \n",
       "34              IT             ITA     380     Italy    Milano     Milan   \n",
       "36              IT             ITA     380     Italy    Torino  Juventus   \n",
       "37              IT             ITA     380     Italy      Roma      Roma   \n",
       "38              IT             ITA     380     Italy  Sassuolo  Sassuolo   \n",
       "47              IT             ITA     380     Italy   Bologna   Bologna   \n",
       "\n",
       "                                   officialName  type  wyId  \n",
       "18  Societ\\u00e0 Polisportiva Ars et Labor 2013  club  3204  \n",
       "34                                     AC Milan  club  3157  \n",
       "36                                  Juventus FC  club  3159  \n",
       "37                                      AS Roma  club  3158  \n",
       "38                           US Sassuolo Calcio  club  3315  \n",
       "47                              Bologna FC 1909  club  3166  "
      ]
     },
     "execution_count": 60,
     "metadata": {},
     "output_type": "execute_result"
    }
   ],
   "source": [
    "#filter for club teams \n",
    "df_teams_club=df_teams.loc[(df_teams[\"type\"] == \"club\")]\n",
    "#filter for different nation and put teams for every nation\n",
    "df_teams_england=df_teams_club.loc[(df_teams_club[\"area.name\"] == \"England\")]\n",
    "df_teams_italy=df_teams_club.loc[(df_teams_club[\"area.name\"] == \"Italy\")]\n",
    "df_teams_spain=df_teams_club.loc[(df_teams_club[\"area.name\"] == \"Spain\")]\n",
    "df_teams_germany=df_teams_club.loc[(df_teams_club[\"area.name\"] == \"Germany\")]\n",
    "df_teams_france=df_teams_club.loc[(df_teams_club[\"area.name\"] == \"France\")]\n",
    "\n",
    "df_teams_italy.head(6)"
   ]
  },
  {
   "cell_type": "markdown",
   "metadata": {},
   "source": [
    "We used this function to calculate age from year of birth"
   ]
  },
  {
   "cell_type": "code",
   "execution_count": 61,
   "metadata": {},
   "outputs": [],
   "source": [
    "#this a function that calucate age from a born year that we have in input\n",
    "def calculate_age(born):\n",
    "    today = date.today()\n",
    "    year, month, day = [int(f) for f in born.split('-')]\n",
    "    return today.year - year - ((today.month, today.day) < (month, day))"
   ]
  },
  {
   "cell_type": "code",
   "execution_count": 62,
   "metadata": {},
   "outputs": [
    {
     "data": {
      "text/html": [
       "<div>\n",
       "<style scoped>\n",
       "    .dataframe tbody tr th:only-of-type {\n",
       "        vertical-align: middle;\n",
       "    }\n",
       "\n",
       "    .dataframe tbody tr th {\n",
       "        vertical-align: top;\n",
       "    }\n",
       "\n",
       "    .dataframe thead th {\n",
       "        text-align: right;\n",
       "    }\n",
       "</style>\n",
       "<table border=\"1\" class=\"dataframe\">\n",
       "  <thead>\n",
       "    <tr style=\"text-align: right;\">\n",
       "      <th></th>\n",
       "      <th>currentTeamId</th>\n",
       "      <th>wyId</th>\n",
       "      <th>role.name</th>\n",
       "      <th>shortName</th>\n",
       "      <th>birthDate</th>\n",
       "      <th>age</th>\n",
       "    </tr>\n",
       "  </thead>\n",
       "  <tbody>\n",
       "    <tr>\n",
       "      <th>0</th>\n",
       "      <td>4502</td>\n",
       "      <td>32777</td>\n",
       "      <td>Goalkeeper</td>\n",
       "      <td>H. Tekin</td>\n",
       "      <td>1989-06-17</td>\n",
       "      <td>30</td>\n",
       "    </tr>\n",
       "    <tr>\n",
       "      <th>1</th>\n",
       "      <td>3775</td>\n",
       "      <td>393228</td>\n",
       "      <td>Defender</td>\n",
       "      <td>M. Sarr</td>\n",
       "      <td>1999-01-23</td>\n",
       "      <td>20</td>\n",
       "    </tr>\n",
       "    <tr>\n",
       "      <th>2</th>\n",
       "      <td>3772</td>\n",
       "      <td>393230</td>\n",
       "      <td>Goalkeeper</td>\n",
       "      <td>O. Mandanda</td>\n",
       "      <td>1998-10-26</td>\n",
       "      <td>21</td>\n",
       "    </tr>\n",
       "    <tr>\n",
       "      <th>3</th>\n",
       "      <td>683</td>\n",
       "      <td>32793</td>\n",
       "      <td>Midfielder</td>\n",
       "      <td>A. N'Diaye</td>\n",
       "      <td>1990-03-06</td>\n",
       "      <td>29</td>\n",
       "    </tr>\n",
       "    <tr>\n",
       "      <th>4</th>\n",
       "      <td>2975</td>\n",
       "      <td>393247</td>\n",
       "      <td>Defender</td>\n",
       "      <td>I. Konat\\u00e9</td>\n",
       "      <td>1999-05-25</td>\n",
       "      <td>20</td>\n",
       "    </tr>\n",
       "    <tr>\n",
       "      <th>5</th>\n",
       "      <td>676</td>\n",
       "      <td>33</td>\n",
       "      <td>Goalkeeper</td>\n",
       "      <td>J. Cillessen</td>\n",
       "      <td>1989-04-22</td>\n",
       "      <td>30</td>\n",
       "    </tr>\n",
       "  </tbody>\n",
       "</table>\n",
       "</div>"
      ],
      "text/plain": [
       "  currentTeamId    wyId   role.name       shortName   birthDate  age\n",
       "0          4502   32777  Goalkeeper        H. Tekin  1989-06-17   30\n",
       "1          3775  393228    Defender         M. Sarr  1999-01-23   20\n",
       "2          3772  393230  Goalkeeper     O. Mandanda  1998-10-26   21\n",
       "3           683   32793  Midfielder      A. N'Diaye  1990-03-06   29\n",
       "4          2975  393247    Defender  I. Konat\\u00e9  1999-05-25   20\n",
       "5           676      33  Goalkeeper    J. Cillessen  1989-04-22   30"
      ]
     },
     "execution_count": 62,
     "metadata": {},
     "output_type": "execute_result"
    }
   ],
   "source": [
    "\n",
    "\n",
    "#calculate age for every players and put it in a new column in a new row\n",
    "players = players[['currentTeamId','wyId','role.name','shortName', 'birthDate']]\n",
    "players[\"age\"] = players.apply(lambda x: calculate_age(x['birthDate']), axis=1)\n",
    "\n",
    "players.head(6)\n",
    "\n"
   ]
  },
  {
   "cell_type": "code",
   "execution_count": 63,
   "metadata": {},
   "outputs": [],
   "source": [
    "#filter data on players for differents role (goalkeepers, defedner, mdifielder, forward)\n",
    "goalkeepers=players.loc[players['role.name'] == \"Goalkeeper\"]\n",
    "defender=players.loc[players['role.name'] == \"Defender\"]\n",
    "midfielder=players.loc[players['role.name'] == \"Midfielder\"]\n",
    "forward=players.loc[players['role.name'] == \"Forward\"]"
   ]
  },
  {
   "cell_type": "markdown",
   "metadata": {},
   "source": [
    "We calculated average age for every championship"
   ]
  },
  {
   "cell_type": "code",
   "execution_count": 64,
   "metadata": {},
   "outputs": [],
   "source": [
    "mean=[]\n",
    "meand_gk=[]\n",
    "mean_defender=[]\n",
    "mean_midfieldr=[]\n",
    "mean_forward=[]\n",
    "championship= [\"Premier league\", \"Liga\", \"Serie A\", \"Bundesliga\",\"Ligue 1\"]\n",
    "\n",
    "\n",
    "df_merge = pd.merge(players,df_teams_england,left_on='currentTeamId', right_on='wyId')\n",
    "Mean_age_england = df_merge[\"age\"].mean()\n",
    "mean.append(Mean_age_england)\n",
    "\n",
    "df_merge = pd.merge(players,df_teams_spain,left_on='currentTeamId', right_on='wyId')\n",
    "Mean_age_spain = df_merge[\"age\"].mean()\n",
    "mean.append(Mean_age_spain)\n",
    "\n",
    "df_merge = pd.merge(players,df_teams_italy,left_on='currentTeamId', right_on='wyId')\n",
    "Mean_age_italy = df_merge[\"age\"].mean()\n",
    "mean.append(Mean_age_italy)\n",
    "\n",
    "df_merge = pd.merge(players,df_teams_germany,left_on='currentTeamId', right_on='wyId')\n",
    "Mean_age_germany = df_merge[\"age\"].mean()\n",
    "mean.append(Mean_age_germany)\n",
    "\n",
    "df_merge = pd.merge(players,df_teams_france,left_on='currentTeamId', right_on='wyId')\n",
    "Mean_age_france = df_merge[\"age\"].mean()\n",
    "mean.append(Mean_age_france)\n",
    "\n",
    "\n",
    "\n"
   ]
  },
  {
   "cell_type": "markdown",
   "metadata": {},
   "source": [
    "We calculated average age for goalkeepers role"
   ]
  },
  {
   "cell_type": "code",
   "execution_count": 65,
   "metadata": {},
   "outputs": [],
   "source": [
    "df_merge_gk = pd.merge(goalkeepers,df_teams_england,left_on='currentTeamId', right_on='wyId')\n",
    "Mean_age_england_gk = df_merge_gk[\"age\"].mean()\n",
    "meand_gk.append(Mean_age_england_gk)\n",
    "\n",
    "df_merge_gk = pd.merge(goalkeepers,df_teams_spain,left_on='currentTeamId', right_on='wyId')\n",
    "Mean_age_spain_gk = df_merge_gk[\"age\"].mean()\n",
    "meand_gk.append(Mean_age_spain_gk)\n",
    "\n",
    "df_merge_gk = pd.merge(goalkeepers,df_teams_italy,left_on='currentTeamId', right_on='wyId')\n",
    "Mean_age_italy_gk = df_merge_gk[\"age\"].mean()\n",
    "meand_gk.append(Mean_age_italy_gk)\n",
    "\n",
    "df_merge_gk = pd.merge(goalkeepers,df_teams_germany,left_on='currentTeamId', right_on='wyId')\n",
    "Mean_age_germany_gk = df_merge_gk[\"age\"].mean()\n",
    "meand_gk.append(Mean_age_germany_gk)\n",
    "\n",
    "df_merge_gk = pd.merge(goalkeepers,df_teams_france,left_on='currentTeamId', right_on='wyId')\n",
    "Mean_age_france_gk = df_merge_gk[\"age\"].mean()\n",
    "meand_gk.append(Mean_age_france_gk)\n",
    "\n",
    "\n",
    "\n",
    "\n",
    "\n"
   ]
  },
  {
   "cell_type": "markdown",
   "metadata": {},
   "source": [
    "We calculated average age for defender role"
   ]
  },
  {
   "cell_type": "code",
   "execution_count": 66,
   "metadata": {},
   "outputs": [],
   "source": [
    "\n",
    "df_merge_defender = pd.merge(defender,df_teams_england,left_on='currentTeamId', right_on='wyId')\n",
    "Mean_age_england_defender = df_merge_defender[\"age\"].mean()\n",
    "mean_defender.append(Mean_age_england_defender)\n",
    "\n",
    "df_merge_defender = pd.merge(defender,df_teams_spain,left_on='currentTeamId', right_on='wyId')\n",
    "Mean_age_spain_defender = df_merge_defender[\"age\"].mean()\n",
    "mean_defender.append(Mean_age_spain_defender)\n",
    "\n",
    "df_merge_defender = pd.merge(defender,df_teams_italy,left_on='currentTeamId', right_on='wyId')\n",
    "Mean_age_italy_defender = df_merge_defender[\"age\"].mean()\n",
    "mean_defender.append(Mean_age_italy_defender)\n",
    "\n",
    "df_merge_defender = pd.merge(defender,df_teams_germany,left_on='currentTeamId', right_on='wyId')\n",
    "Mean_age_germany_defender = df_merge_defender[\"age\"].mean()\n",
    "mean_defender.append(Mean_age_germany_defender)\n",
    "\n",
    "df_merge_defender = pd.merge(defender,df_teams_france,left_on='currentTeamId', right_on='wyId')\n",
    "Mean_age_france_defender = df_merge_defender[\"age\"].mean()\n",
    "mean_defender.append(Mean_age_france_defender)\n",
    "\n",
    "\n",
    "\n",
    "\n",
    "\n"
   ]
  },
  {
   "cell_type": "markdown",
   "metadata": {},
   "source": [
    "We calculated average age for midifielder role"
   ]
  },
  {
   "cell_type": "code",
   "execution_count": 67,
   "metadata": {},
   "outputs": [],
   "source": [
    "df_merge_midfielder = pd.merge(midfielder,df_teams_england,left_on='currentTeamId', right_on='wyId')\n",
    "Mean_age_england_midfielder = df_merge_midfielder[\"age\"].mean()\n",
    "mean_midfieldr.append(Mean_age_england_midfielder)\n",
    "\n",
    "df_merge_midfielder = pd.merge(midfielder,df_teams_spain,left_on='currentTeamId', right_on='wyId')\n",
    "Mean_age_spain_midfielder = df_merge_midfielder[\"age\"].mean()\n",
    "mean_midfieldr.append(Mean_age_spain_midfielder)\n",
    "\n",
    "df_merge_midfielder = pd.merge(midfielder,df_teams_italy,left_on='currentTeamId', right_on='wyId')\n",
    "Mean_age_italy_midfielder = df_merge_midfielder[\"age\"].mean()\n",
    "mean_midfieldr.append(Mean_age_italy_midfielder)\n",
    "\n",
    "df_merge_midfielder = pd.merge(midfielder,df_teams_germany,left_on='currentTeamId', right_on='wyId')\n",
    "Mean_age_germany_midfielder = df_merge_midfielder[\"age\"].mean()\n",
    "mean_midfieldr.append(Mean_age_germany_midfielder)\n",
    "\n",
    "df_merge_midfielder = pd.merge(midfielder,df_teams_france,left_on='currentTeamId', right_on='wyId')\n",
    "Mean_age_france_midfielder = df_merge_midfielder[\"age\"].mean()\n",
    "mean_midfieldr.append(Mean_age_france_midfielder)\n",
    "\n"
   ]
  },
  {
   "cell_type": "markdown",
   "metadata": {},
   "source": [
    "We calculated average age for forward role"
   ]
  },
  {
   "cell_type": "code",
   "execution_count": 68,
   "metadata": {},
   "outputs": [],
   "source": [
    "df_merge_forward = pd.merge(forward,df_teams_england,left_on='currentTeamId', right_on='wyId')\n",
    "Mean_age_england_forward = df_merge_forward[\"age\"].mean()\n",
    "mean_forward.append(Mean_age_england_forward)\n",
    "\n",
    "df_merge_forward = pd.merge(forward,df_teams_spain,left_on='currentTeamId', right_on='wyId')\n",
    "Mean_age_spain_forward = df_merge_forward[\"age\"].mean()\n",
    "mean_forward.append(Mean_age_spain_forward)\n",
    "\n",
    "\n",
    "df_merge_forward = pd.merge(forward,df_teams_italy,left_on='currentTeamId', right_on='wyId')\n",
    "Mean_age_italy_forward = df_merge_forward[\"age\"].mean()\n",
    "mean_forward.append(Mean_age_italy_forward)\n",
    "\n",
    "df_merge_forward = pd.merge(forward,df_teams_germany,left_on='currentTeamId', right_on='wyId')\n",
    "Mean_age_germany_forward = df_merge_forward[\"age\"].mean()\n",
    "mean_forward.append(Mean_age_germany_forward)\n",
    "\n",
    "df_merge_forward = pd.merge(forward,df_teams_france,left_on='currentTeamId', right_on='wyId')\n",
    "Mean_age_england_forward = df_merge_forward[\"age\"].mean()\n",
    "mean_forward.append(Mean_age_england_forward)"
   ]
  },
  {
   "cell_type": "markdown",
   "metadata": {},
   "source": [
    "In the following figre we have shown a bar plot that shows the difference between average age about all 5 diffrent championship in Europe that we have considered."
   ]
  },
  {
   "cell_type": "code",
   "execution_count": 69,
   "metadata": {},
   "outputs": [
    {
     "data": {
      "image/png": "[encoded data removed]",
      "text/plain": [
       "<Figure size 432x288 with 1 Axes>"
      ]
     },
     "metadata": {
      "needs_background": "light"
     },
     "output_type": "display_data"
    }
   ],
   "source": [
    "#total mean\n",
    "ax = sns.barplot(x=championship, y=mean)\n",
    "ax.set(ylim=(25, 29))\n",
    "for p in ax.patches:\n",
    "    ax.annotate(format(p.get_height(), '.2f'), (p.get_x() + p.get_width() / 2., p.get_height()), ha = 'center', va = 'center', xytext = (0, 10), textcoords = 'offset points')\n",
    "\n"
   ]
  },
  {
   "cell_type": "markdown",
   "metadata": {},
   "source": [
    "In the following figre we have shown a bar plot that shows the difference between average age for goalkeepers about all 5 diffrent championship in Europe that we have considered."
   ]
  },
  {
   "cell_type": "code",
   "execution_count": 70,
   "metadata": {},
   "outputs": [
    {
     "data": {
      "image/png": "[encoded data removed]",
      "text/plain": [
       "<Figure size 432x288 with 1 Axes>"
      ]
     },
     "metadata": {
      "needs_background": "light"
     },
     "output_type": "display_data"
    }
   ],
   "source": [
    "#mean by gk\n",
    "ax = sns.barplot(x=championship, y=meand_gk)\n",
    "ax.set(ylim=(26, 33))\n",
    "for p in ax.patches:\n",
    "    ax.annotate(format(p.get_height(), '.2f'), (p.get_x() + p.get_width() / 2., p.get_height()), ha = 'center', va = 'center', xytext = (0, 10), textcoords = 'offset points')\n",
    "\n"
   ]
  },
  {
   "cell_type": "markdown",
   "metadata": {},
   "source": [
    "In the following figre we have shown a bar plot that shows the difference between average age for defenders about all 5 diffrent championship in Europe that we have considered."
   ]
  },
  {
   "cell_type": "code",
   "execution_count": 71,
   "metadata": {},
   "outputs": [
    {
     "data": {
      "image/png": "[encoded data removed]",
      "text/plain": [
       "<Figure size 432x288 with 1 Axes>"
      ]
     },
     "metadata": {
      "needs_background": "light"
     },
     "output_type": "display_data"
    }
   ],
   "source": [
    "#mean by defender\n",
    "ax = sns.barplot(x=championship, y=mean_defender)\n",
    "ax.set(ylim=(25, 30))\n",
    "for p in ax.patches:\n",
    "    ax.annotate(format(p.get_height(), '.2f'), (p.get_x() + p.get_width() / 2., p.get_height()), ha = 'center', va = 'center', xytext = (0, 10), textcoords = 'offset points')\n",
    "\n"
   ]
  },
  {
   "cell_type": "markdown",
   "metadata": {},
   "source": [
    "In the following figre we have shown a bar plot that shows the difference between average age for midfielders about all 5 diffrent championship in Europe that we have considered."
   ]
  },
  {
   "cell_type": "code",
   "execution_count": 72,
   "metadata": {},
   "outputs": [
    {
     "data": {
      "image/png": "[encoded data removed]",
      "text/plain": [
       "<Figure size 432x288 with 1 Axes>"
      ]
     },
     "metadata": {
      "needs_background": "light"
     },
     "output_type": "display_data"
    }
   ],
   "source": [
    "#mean by midfielder\n",
    "ax = sns.barplot(x=championship, y=mean_midfieldr)\n",
    "ax.set(ylim=(25, 28.5))\n",
    "for p in ax.patches:\n",
    "    ax.annotate(format(p.get_height(), '.2f'), (p.get_x() + p.get_width() / 2., p.get_height()), ha = 'center', va = 'center', xytext = (0, 10), textcoords = 'offset points')\n",
    "\n"
   ]
  },
  {
   "cell_type": "markdown",
   "metadata": {},
   "source": [
    "In the following figre we have shown a bar plot that shows the difference between average age for forwards about all 5 different championship in Europe that we have considered."
   ]
  },
  {
   "cell_type": "code",
   "execution_count": 73,
   "metadata": {
    "scrolled": true
   },
   "outputs": [
    {
     "data": {
      "image/png": "[encoded data removed]",
      "text/plain": [
       "<Figure size 432x288 with 1 Axes>"
      ]
     },
     "metadata": {
      "needs_background": "light"
     },
     "output_type": "display_data"
    }
   ],
   "source": [
    "#mean by forward\n",
    "ax = sns.barplot(x=championship, y=mean_forward)\n",
    "ax.set(ylim=(25, 28.5))\n",
    "for p in ax.patches:\n",
    "    ax.annotate(format(p.get_height(), '.2f'), (p.get_x() + p.get_width() / 2., p.get_height()), ha = 'center', va = 'center', xytext = (0, 10), textcoords = 'offset points')\n",
    "\n"
   ]
  }
 ],
 "metadata": {
  "kernelspec": {
   "display_name": "Python 3",
   "language": "python",
   "name": "python3"
  },
  "language_info": {
   "codemirror_mode": {
    "name": "ipython",
    "version": 3
   },
   "file_extension": ".py",
   "mimetype": "text/x-python",
   "name": "python",
   "nbconvert_exporter": "python",
   "pygments_lexer": "ipython3",
   "version": "3.7.3"
  }
 },
 "nbformat": 4,
 "nbformat_minor": 2
}
