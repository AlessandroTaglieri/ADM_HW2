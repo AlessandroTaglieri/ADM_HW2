{
 "cells": [
  {
   "cell_type": "code",
   "execution_count": 1,
   "metadata": {},
   "outputs": [],
   "source": [
    "import pandas as pd\n",
    "import numpy as np\n",
    "import json\n",
    "from pandas.io.json import json_normalize  \n",
    "import matplotlib.pyplot as plt"
   ]
  },
  {
   "cell_type": "markdown",
   "metadata": {},
   "source": [
    "# Import Matches"
   ]
  },
  {
   "cell_type": "code",
   "execution_count": 2,
   "metadata": {},
   "outputs": [],
   "source": [
    "dataset = pd.read_json('/home/yves/Desktop/Data_Science/ADM1/adm_hw2/data/matches/matches_England.json')"
   ]
  },
  {
   "cell_type": "markdown",
   "metadata": {},
   "source": [
    "#  Is there a home-field advantage?"
   ]
  },
  {
   "cell_type": "code",
   "execution_count": 3,
   "metadata": {},
   "outputs": [],
   "source": [
    "# In order to work easily, I select only the most useful columns for this task. \n",
    "sub_dataset = dataset[['status','winner', 'label']] "
   ]
  },
  {
   "cell_type": "code",
   "execution_count": 4,
   "metadata": {},
   "outputs": [
    {
     "data": {
      "text/html": [
       "<div>\n",
       "<style scoped>\n",
       "    .dataframe tbody tr th:only-of-type {\n",
       "        vertical-align: middle;\n",
       "    }\n",
       "\n",
       "    .dataframe tbody tr th {\n",
       "        vertical-align: top;\n",
       "    }\n",
       "\n",
       "    .dataframe thead th {\n",
       "        text-align: right;\n",
       "    }\n",
       "</style>\n",
       "<table border=\"1\" class=\"dataframe\">\n",
       "  <thead>\n",
       "    <tr style=\"text-align: right;\">\n",
       "      <th></th>\n",
       "      <th>label</th>\n",
       "    </tr>\n",
       "  </thead>\n",
       "  <tbody>\n",
       "    <tr>\n",
       "      <th>0</th>\n",
       "      <td>Burnley - AFC Bournemouth, 1 - 2</td>\n",
       "    </tr>\n",
       "    <tr>\n",
       "      <th>1</th>\n",
       "      <td>Crystal Palace - West Bromwich Albion, 2 - 0</td>\n",
       "    </tr>\n",
       "    <tr>\n",
       "      <th>2</th>\n",
       "      <td>Huddersfield Town - Arsenal, 0 - 1</td>\n",
       "    </tr>\n",
       "  </tbody>\n",
       "</table>\n",
       "</div>"
      ],
      "text/plain": [
       "                                          label\n",
       "0              Burnley - AFC Bournemouth, 1 - 2\n",
       "1  Crystal Palace - West Bromwich Albion, 2 - 0\n",
       "2            Huddersfield Town - Arsenal, 0 - 1"
      ]
     },
     "execution_count": 4,
     "metadata": {},
     "output_type": "execute_result"
    }
   ],
   "source": [
    "# Now I will extract all the information contained in the label column and rearrange it!\n",
    "label = pd.DataFrame(sub_dataset['label'])\n",
    "\n",
    "label.head(3)"
   ]
  },
  {
   "cell_type": "code",
   "execution_count": 5,
   "metadata": {},
   "outputs": [],
   "source": [
    "new_dataset = label[\"label\"].str.split(\",\",n = 1, expand = True) # split the column label"
   ]
  },
  {
   "cell_type": "code",
   "execution_count": 6,
   "metadata": {},
   "outputs": [],
   "source": [
    "new_dataset.columns = (\"teams\", \"score\") # rename the columns"
   ]
  },
  {
   "cell_type": "code",
   "execution_count": 7,
   "metadata": {},
   "outputs": [
    {
     "data": {
      "text/html": [
       "<div>\n",
       "<style scoped>\n",
       "    .dataframe tbody tr th:only-of-type {\n",
       "        vertical-align: middle;\n",
       "    }\n",
       "\n",
       "    .dataframe tbody tr th {\n",
       "        vertical-align: top;\n",
       "    }\n",
       "\n",
       "    .dataframe thead th {\n",
       "        text-align: right;\n",
       "    }\n",
       "</style>\n",
       "<table border=\"1\" class=\"dataframe\">\n",
       "  <thead>\n",
       "    <tr style=\"text-align: right;\">\n",
       "      <th></th>\n",
       "      <th>teams</th>\n",
       "      <th>score</th>\n",
       "    </tr>\n",
       "  </thead>\n",
       "  <tbody>\n",
       "    <tr>\n",
       "      <th>0</th>\n",
       "      <td>Burnley - AFC Bournemouth</td>\n",
       "      <td>1 - 2</td>\n",
       "    </tr>\n",
       "    <tr>\n",
       "      <th>1</th>\n",
       "      <td>Crystal Palace - West Bromwich Albion</td>\n",
       "      <td>2 - 0</td>\n",
       "    </tr>\n",
       "    <tr>\n",
       "      <th>2</th>\n",
       "      <td>Huddersfield Town - Arsenal</td>\n",
       "      <td>0 - 1</td>\n",
       "    </tr>\n",
       "  </tbody>\n",
       "</table>\n",
       "</div>"
      ],
      "text/plain": [
       "                                   teams   score\n",
       "0              Burnley - AFC Bournemouth   1 - 2\n",
       "1  Crystal Palace - West Bromwich Albion   2 - 0\n",
       "2            Huddersfield Town - Arsenal   0 - 1"
      ]
     },
     "execution_count": 7,
     "metadata": {},
     "output_type": "execute_result"
    }
   ],
   "source": [
    "new_dataset.head(3)"
   ]
  },
  {
   "cell_type": "code",
   "execution_count": 8,
   "metadata": {},
   "outputs": [],
   "source": [
    "teams = new_dataset[\"teams\"].str.split(\"-\",n = 1, expand = True) # split the teams column"
   ]
  },
  {
   "cell_type": "code",
   "execution_count": 9,
   "metadata": {},
   "outputs": [
    {
     "data": {
      "text/html": [
       "<div>\n",
       "<style scoped>\n",
       "    .dataframe tbody tr th:only-of-type {\n",
       "        vertical-align: middle;\n",
       "    }\n",
       "\n",
       "    .dataframe tbody tr th {\n",
       "        vertical-align: top;\n",
       "    }\n",
       "\n",
       "    .dataframe thead th {\n",
       "        text-align: right;\n",
       "    }\n",
       "</style>\n",
       "<table border=\"1\" class=\"dataframe\">\n",
       "  <thead>\n",
       "    <tr style=\"text-align: right;\">\n",
       "      <th></th>\n",
       "      <th>status</th>\n",
       "      <th>winner</th>\n",
       "      <th>label</th>\n",
       "      <th>0</th>\n",
       "      <th>1</th>\n",
       "    </tr>\n",
       "  </thead>\n",
       "  <tbody>\n",
       "    <tr>\n",
       "      <th>0</th>\n",
       "      <td>Played</td>\n",
       "      <td>1659</td>\n",
       "      <td>Burnley - AFC Bournemouth, 1 - 2</td>\n",
       "      <td>Burnley</td>\n",
       "      <td>AFC Bournemouth</td>\n",
       "    </tr>\n",
       "    <tr>\n",
       "      <th>1</th>\n",
       "      <td>Played</td>\n",
       "      <td>1628</td>\n",
       "      <td>Crystal Palace - West Bromwich Albion, 2 - 0</td>\n",
       "      <td>Crystal Palace</td>\n",
       "      <td>West Bromwich Albion</td>\n",
       "    </tr>\n",
       "    <tr>\n",
       "      <th>2</th>\n",
       "      <td>Played</td>\n",
       "      <td>1609</td>\n",
       "      <td>Huddersfield Town - Arsenal, 0 - 1</td>\n",
       "      <td>Huddersfield Town</td>\n",
       "      <td>Arsenal</td>\n",
       "    </tr>\n",
       "    <tr>\n",
       "      <th>3</th>\n",
       "      <td>Played</td>\n",
       "      <td>1612</td>\n",
       "      <td>Liverpool - Brighton &amp; Hove Albion, 4 - 0</td>\n",
       "      <td>Liverpool</td>\n",
       "      <td>Brighton &amp; Hove Albion</td>\n",
       "    </tr>\n",
       "    <tr>\n",
       "      <th>4</th>\n",
       "      <td>Played</td>\n",
       "      <td>1611</td>\n",
       "      <td>Manchester United - Watford, 1 - 0</td>\n",
       "      <td>Manchester United</td>\n",
       "      <td>Watford</td>\n",
       "    </tr>\n",
       "  </tbody>\n",
       "</table>\n",
       "</div>"
      ],
      "text/plain": [
       "   status  winner                                         label  \\\n",
       "0  Played    1659              Burnley - AFC Bournemouth, 1 - 2   \n",
       "1  Played    1628  Crystal Palace - West Bromwich Albion, 2 - 0   \n",
       "2  Played    1609            Huddersfield Town - Arsenal, 0 - 1   \n",
       "3  Played    1612     Liverpool - Brighton & Hove Albion, 4 - 0   \n",
       "4  Played    1611            Manchester United - Watford, 1 - 0   \n",
       "\n",
       "                    0                        1  \n",
       "0            Burnley           AFC Bournemouth  \n",
       "1     Crystal Palace      West Bromwich Albion  \n",
       "2  Huddersfield Town                   Arsenal  \n",
       "3          Liverpool    Brighton & Hove Albion  \n",
       "4  Manchester United                   Watford  "
      ]
     },
     "execution_count": 9,
     "metadata": {},
     "output_type": "execute_result"
    }
   ],
   "source": [
    "# merge teams to the sub_dataset\n",
    "dataset = pd.merge(sub_dataset, teams, left_index=True, right_index=True)\n",
    "\n",
    "dataset.head(5)"
   ]
  },
  {
   "cell_type": "code",
   "execution_count": 10,
   "metadata": {},
   "outputs": [
    {
     "data": {
      "text/plain": [
       "array(['Played'], dtype=object)"
      ]
     },
     "execution_count": 10,
     "metadata": {},
     "output_type": "execute_result"
    }
   ],
   "source": [
    "# check il all the matches had been played\n",
    "dataset['status'].unique()"
   ]
  },
  {
   "cell_type": "code",
   "execution_count": 11,
   "metadata": {},
   "outputs": [],
   "source": [
    "dataset.drop(columns = ['label','status'], inplace=True)"
   ]
  },
  {
   "cell_type": "code",
   "execution_count": 12,
   "metadata": {},
   "outputs": [
    {
     "data": {
      "text/html": [
       "<div>\n",
       "<style scoped>\n",
       "    .dataframe tbody tr th:only-of-type {\n",
       "        vertical-align: middle;\n",
       "    }\n",
       "\n",
       "    .dataframe tbody tr th {\n",
       "        vertical-align: top;\n",
       "    }\n",
       "\n",
       "    .dataframe thead th {\n",
       "        text-align: right;\n",
       "    }\n",
       "</style>\n",
       "<table border=\"1\" class=\"dataframe\">\n",
       "  <thead>\n",
       "    <tr style=\"text-align: right;\">\n",
       "      <th></th>\n",
       "      <th>winner</th>\n",
       "      <th>home</th>\n",
       "      <th>away</th>\n",
       "    </tr>\n",
       "  </thead>\n",
       "  <tbody>\n",
       "    <tr>\n",
       "      <th>0</th>\n",
       "      <td>1659</td>\n",
       "      <td>Burnley</td>\n",
       "      <td>AFC Bournemouth</td>\n",
       "    </tr>\n",
       "    <tr>\n",
       "      <th>1</th>\n",
       "      <td>1628</td>\n",
       "      <td>Crystal Palace</td>\n",
       "      <td>West Bromwich Albion</td>\n",
       "    </tr>\n",
       "  </tbody>\n",
       "</table>\n",
       "</div>"
      ],
      "text/plain": [
       "   winner             home                   away\n",
       "0    1659         Burnley         AFC Bournemouth\n",
       "1    1628  Crystal Palace    West Bromwich Albion"
      ]
     },
     "execution_count": 12,
     "metadata": {},
     "output_type": "execute_result"
    }
   ],
   "source": [
    "# rename columns\n",
    "dataset.columns = (\"winner\", \"home\", \"away\")\n",
    "dataset.head(2)"
   ]
  },
  {
   "cell_type": "code",
   "execution_count": 13,
   "metadata": {},
   "outputs": [],
   "source": [
    "# adjust the home and away strings. Because they contain extra spaces\n",
    "home = []\n",
    "for i in dataset['home']:\n",
    "    j = \" \".join(i.split())\n",
    "    home.append(j)\n",
    "away = []\n",
    "for i in dataset['away']:\n",
    "    j = \" \".join(i.split())\n",
    "    away.append(j)\n",
    "\n",
    "dataset['home'] = home\n",
    "dataset['away'] = away"
   ]
  },
  {
   "cell_type": "code",
   "execution_count": 14,
   "metadata": {},
   "outputs": [
    {
     "data": {
      "text/html": [
       "<div>\n",
       "<style scoped>\n",
       "    .dataframe tbody tr th:only-of-type {\n",
       "        vertical-align: middle;\n",
       "    }\n",
       "\n",
       "    .dataframe tbody tr th {\n",
       "        vertical-align: top;\n",
       "    }\n",
       "\n",
       "    .dataframe thead th {\n",
       "        text-align: right;\n",
       "    }\n",
       "</style>\n",
       "<table border=\"1\" class=\"dataframe\">\n",
       "  <thead>\n",
       "    <tr style=\"text-align: right;\">\n",
       "      <th></th>\n",
       "      <th>winner</th>\n",
       "      <th>home</th>\n",
       "      <th>away</th>\n",
       "    </tr>\n",
       "  </thead>\n",
       "  <tbody>\n",
       "    <tr>\n",
       "      <th>0</th>\n",
       "      <td>1659</td>\n",
       "      <td>Burnley</td>\n",
       "      <td>AFC Bournemouth</td>\n",
       "    </tr>\n",
       "    <tr>\n",
       "      <th>1</th>\n",
       "      <td>1628</td>\n",
       "      <td>Crystal Palace</td>\n",
       "      <td>West Bromwich Albion</td>\n",
       "    </tr>\n",
       "    <tr>\n",
       "      <th>2</th>\n",
       "      <td>1609</td>\n",
       "      <td>Huddersfield Town</td>\n",
       "      <td>Arsenal</td>\n",
       "    </tr>\n",
       "    <tr>\n",
       "      <th>3</th>\n",
       "      <td>1612</td>\n",
       "      <td>Liverpool</td>\n",
       "      <td>Brighton &amp; Hove Albion</td>\n",
       "    </tr>\n",
       "    <tr>\n",
       "      <th>4</th>\n",
       "      <td>1611</td>\n",
       "      <td>Manchester United</td>\n",
       "      <td>Watford</td>\n",
       "    </tr>\n",
       "  </tbody>\n",
       "</table>\n",
       "</div>"
      ],
      "text/plain": [
       "   winner               home                    away\n",
       "0    1659            Burnley         AFC Bournemouth\n",
       "1    1628     Crystal Palace    West Bromwich Albion\n",
       "2    1609  Huddersfield Town                 Arsenal\n",
       "3    1612          Liverpool  Brighton & Hove Albion\n",
       "4    1611  Manchester United                 Watford"
      ]
     },
     "execution_count": 14,
     "metadata": {},
     "output_type": "execute_result"
    }
   ],
   "source": [
    "dataset.head(5)"
   ]
  },
  {
   "cell_type": "markdown",
   "metadata": {},
   "source": [
    "Now I convert the club's names into their Id"
   ]
  },
  {
   "cell_type": "markdown",
   "metadata": {},
   "source": [
    "# Import Teams"
   ]
  },
  {
   "cell_type": "code",
   "execution_count": 15,
   "metadata": {},
   "outputs": [],
   "source": [
    "teams = pd.read_json('/home/yves/Desktop/Data_Science/ADM1/adm_hw2/data/teams.json')"
   ]
  },
  {
   "cell_type": "code",
   "execution_count": 16,
   "metadata": {},
   "outputs": [
    {
     "data": {
      "text/plain": [
       "Index(['city', 'name', 'wyId', 'officialName', 'area', 'type'], dtype='object')"
      ]
     },
     "execution_count": 16,
     "metadata": {},
     "output_type": "execute_result"
    }
   ],
   "source": [
    "teams.columns"
   ]
  },
  {
   "cell_type": "markdown",
   "metadata": {},
   "source": [
    "Now I extract the name of the country of each club in order to focus on the premier league"
   ]
  },
  {
   "cell_type": "code",
   "execution_count": 17,
   "metadata": {},
   "outputs": [],
   "source": [
    "# transform the area column into the nountry name\n",
    "L = []\n",
    "for i in teams['area']:\n",
    "    L.append(i['name'])\n",
    "teams['area'] = L"
   ]
  },
  {
   "cell_type": "code",
   "execution_count": 18,
   "metadata": {},
   "outputs": [],
   "source": [
    "# extract only the teams that are in England or Wales\n",
    "keep = ['England', 'Wales']\n",
    "teams = teams.loc[teams['area'].isin(keep)]"
   ]
  },
  {
   "cell_type": "code",
   "execution_count": 19,
   "metadata": {},
   "outputs": [
    {
     "data": {
      "text/html": [
       "<div>\n",
       "<style scoped>\n",
       "    .dataframe tbody tr th:only-of-type {\n",
       "        vertical-align: middle;\n",
       "    }\n",
       "\n",
       "    .dataframe tbody tr th {\n",
       "        vertical-align: top;\n",
       "    }\n",
       "\n",
       "    .dataframe thead th {\n",
       "        text-align: right;\n",
       "    }\n",
       "</style>\n",
       "<table border=\"1\" class=\"dataframe\">\n",
       "  <thead>\n",
       "    <tr style=\"text-align: right;\">\n",
       "      <th></th>\n",
       "      <th>city</th>\n",
       "      <th>name</th>\n",
       "      <th>wyId</th>\n",
       "      <th>officialName</th>\n",
       "      <th>area</th>\n",
       "      <th>type</th>\n",
       "    </tr>\n",
       "  </thead>\n",
       "  <tbody>\n",
       "    <tr>\n",
       "      <th>0</th>\n",
       "      <td>Newcastle upon Tyne</td>\n",
       "      <td>Newcastle United</td>\n",
       "      <td>1613</td>\n",
       "      <td>Newcastle United FC</td>\n",
       "      <td>England</td>\n",
       "      <td>club</td>\n",
       "    </tr>\n",
       "    <tr>\n",
       "      <th>8</th>\n",
       "      <td>Huddersfield, West Yorkshire</td>\n",
       "      <td>Huddersfield Town</td>\n",
       "      <td>1673</td>\n",
       "      <td>Huddersfield Town FC</td>\n",
       "      <td>England</td>\n",
       "      <td>club</td>\n",
       "    </tr>\n",
       "    <tr>\n",
       "      <th>19</th>\n",
       "      <td>Swansea</td>\n",
       "      <td>Swansea City</td>\n",
       "      <td>10531</td>\n",
       "      <td>Swansea City AFC</td>\n",
       "      <td>Wales</td>\n",
       "      <td>club</td>\n",
       "    </tr>\n",
       "    <tr>\n",
       "      <th>26</th>\n",
       "      <td>Bournemouth, Dorset</td>\n",
       "      <td>AFC Bournemouth</td>\n",
       "      <td>1659</td>\n",
       "      <td>AFC Bournemouth</td>\n",
       "      <td>England</td>\n",
       "      <td>club</td>\n",
       "    </tr>\n",
       "    <tr>\n",
       "      <th>27</th>\n",
       "      <td>Brighton, East Sussex</td>\n",
       "      <td>Brighton &amp; Hove Albion</td>\n",
       "      <td>1651</td>\n",
       "      <td>Brighton &amp; Hove Albion FC</td>\n",
       "      <td>England</td>\n",
       "      <td>club</td>\n",
       "    </tr>\n",
       "  </tbody>\n",
       "</table>\n",
       "</div>"
      ],
      "text/plain": [
       "                            city                    name   wyId  \\\n",
       "0            Newcastle upon Tyne        Newcastle United   1613   \n",
       "8   Huddersfield, West Yorkshire       Huddersfield Town   1673   \n",
       "19                       Swansea            Swansea City  10531   \n",
       "26           Bournemouth, Dorset         AFC Bournemouth   1659   \n",
       "27         Brighton, East Sussex  Brighton & Hove Albion   1651   \n",
       "\n",
       "                 officialName     area  type  \n",
       "0         Newcastle United FC  England  club  \n",
       "8        Huddersfield Town FC  England  club  \n",
       "19           Swansea City AFC    Wales  club  \n",
       "26            AFC Bournemouth  England  club  \n",
       "27  Brighton & Hove Albion FC  England  club  "
      ]
     },
     "execution_count": 19,
     "metadata": {},
     "output_type": "execute_result"
    }
   ],
   "source": [
    "teams.head(5)"
   ]
  },
  {
   "cell_type": "code",
   "execution_count": 20,
   "metadata": {},
   "outputs": [],
   "source": [
    " # select only clubs from the Premier League. Delete National teams and keep clubs\n",
    "teams = teams[teams.type != 'national'] "
   ]
  },
  {
   "cell_type": "code",
   "execution_count": 21,
   "metadata": {},
   "outputs": [
    {
     "data": {
      "text/plain": [
       "(20, 6)"
      ]
     },
     "execution_count": 21,
     "metadata": {},
     "output_type": "execute_result"
    }
   ],
   "source": [
    "teams.shape"
   ]
  },
  {
   "cell_type": "code",
   "execution_count": 22,
   "metadata": {},
   "outputs": [
    {
     "data": {
      "text/html": [
       "<div>\n",
       "<style scoped>\n",
       "    .dataframe tbody tr th:only-of-type {\n",
       "        vertical-align: middle;\n",
       "    }\n",
       "\n",
       "    .dataframe tbody tr th {\n",
       "        vertical-align: top;\n",
       "    }\n",
       "\n",
       "    .dataframe thead th {\n",
       "        text-align: right;\n",
       "    }\n",
       "</style>\n",
       "<table border=\"1\" class=\"dataframe\">\n",
       "  <thead>\n",
       "    <tr style=\"text-align: right;\">\n",
       "      <th></th>\n",
       "      <th>winner</th>\n",
       "      <th>home</th>\n",
       "      <th>away</th>\n",
       "    </tr>\n",
       "  </thead>\n",
       "  <tbody>\n",
       "    <tr>\n",
       "      <th>0</th>\n",
       "      <td>1659</td>\n",
       "      <td>Burnley</td>\n",
       "      <td>AFC Bournemouth</td>\n",
       "    </tr>\n",
       "    <tr>\n",
       "      <th>1</th>\n",
       "      <td>1628</td>\n",
       "      <td>Crystal Palace</td>\n",
       "      <td>West Bromwich Albion</td>\n",
       "    </tr>\n",
       "    <tr>\n",
       "      <th>2</th>\n",
       "      <td>1609</td>\n",
       "      <td>Huddersfield Town</td>\n",
       "      <td>Arsenal</td>\n",
       "    </tr>\n",
       "    <tr>\n",
       "      <th>3</th>\n",
       "      <td>1612</td>\n",
       "      <td>Liverpool</td>\n",
       "      <td>Brighton &amp; Hove Albion</td>\n",
       "    </tr>\n",
       "    <tr>\n",
       "      <th>4</th>\n",
       "      <td>1611</td>\n",
       "      <td>Manchester United</td>\n",
       "      <td>Watford</td>\n",
       "    </tr>\n",
       "    <tr>\n",
       "      <th>...</th>\n",
       "      <td>...</td>\n",
       "      <td>...</td>\n",
       "      <td>...</td>\n",
       "    </tr>\n",
       "    <tr>\n",
       "      <th>375</th>\n",
       "      <td>1623</td>\n",
       "      <td>Everton</td>\n",
       "      <td>Stoke City</td>\n",
       "    </tr>\n",
       "    <tr>\n",
       "      <th>376</th>\n",
       "      <td>0</td>\n",
       "      <td>Southampton</td>\n",
       "      <td>Swansea City</td>\n",
       "    </tr>\n",
       "    <tr>\n",
       "      <th>377</th>\n",
       "      <td>1627</td>\n",
       "      <td>West Bromwich Albion</td>\n",
       "      <td>AFC Bournemouth</td>\n",
       "    </tr>\n",
       "    <tr>\n",
       "      <th>378</th>\n",
       "      <td>0</td>\n",
       "      <td>Watford</td>\n",
       "      <td>Liverpool</td>\n",
       "    </tr>\n",
       "    <tr>\n",
       "      <th>379</th>\n",
       "      <td>1609</td>\n",
       "      <td>Arsenal</td>\n",
       "      <td>Leicester City</td>\n",
       "    </tr>\n",
       "  </tbody>\n",
       "</table>\n",
       "<p>380 rows × 3 columns</p>\n",
       "</div>"
      ],
      "text/plain": [
       "     winner                  home                    away\n",
       "0      1659               Burnley         AFC Bournemouth\n",
       "1      1628        Crystal Palace    West Bromwich Albion\n",
       "2      1609     Huddersfield Town                 Arsenal\n",
       "3      1612             Liverpool  Brighton & Hove Albion\n",
       "4      1611     Manchester United                 Watford\n",
       "..      ...                   ...                     ...\n",
       "375    1623               Everton              Stoke City\n",
       "376       0           Southampton            Swansea City\n",
       "377    1627  West Bromwich Albion         AFC Bournemouth\n",
       "378       0               Watford               Liverpool\n",
       "379    1609               Arsenal          Leicester City\n",
       "\n",
       "[380 rows x 3 columns]"
      ]
     },
     "execution_count": 22,
     "metadata": {},
     "output_type": "execute_result"
    }
   ],
   "source": [
    "dataset"
   ]
  },
  {
   "cell_type": "code",
   "execution_count": 23,
   "metadata": {},
   "outputs": [],
   "source": [
    "# get the team's ID \n",
    "home_Id = []\n",
    "for i in dataset['home']:\n",
    "    j = teams.name[teams.name == i].index.tolist()[0]\n",
    "    home_Id.append(teams['wyId'][j])"
   ]
  },
  {
   "cell_type": "code",
   "execution_count": 24,
   "metadata": {},
   "outputs": [],
   "source": [
    "# get the team's ID \n",
    "away_Id = []\n",
    "for i in dataset['away']:\n",
    "    j = teams.name[teams.name == i].index.tolist()[0]\n",
    "    away_Id.append(teams['wyId'][j])\n"
   ]
  },
  {
   "cell_type": "code",
   "execution_count": 25,
   "metadata": {},
   "outputs": [],
   "source": [
    "dataset['home'] = home_Id\n",
    "dataset['away'] = away_Id"
   ]
  },
  {
   "cell_type": "code",
   "execution_count": 26,
   "metadata": {},
   "outputs": [
    {
     "data": {
      "text/html": [
       "<div>\n",
       "<style scoped>\n",
       "    .dataframe tbody tr th:only-of-type {\n",
       "        vertical-align: middle;\n",
       "    }\n",
       "\n",
       "    .dataframe tbody tr th {\n",
       "        vertical-align: top;\n",
       "    }\n",
       "\n",
       "    .dataframe thead th {\n",
       "        text-align: right;\n",
       "    }\n",
       "</style>\n",
       "<table border=\"1\" class=\"dataframe\">\n",
       "  <thead>\n",
       "    <tr style=\"text-align: right;\">\n",
       "      <th></th>\n",
       "      <th>winner</th>\n",
       "      <th>home</th>\n",
       "      <th>away</th>\n",
       "    </tr>\n",
       "  </thead>\n",
       "  <tbody>\n",
       "    <tr>\n",
       "      <th>0</th>\n",
       "      <td>1659</td>\n",
       "      <td>1646</td>\n",
       "      <td>1659</td>\n",
       "    </tr>\n",
       "    <tr>\n",
       "      <th>1</th>\n",
       "      <td>1628</td>\n",
       "      <td>1628</td>\n",
       "      <td>1627</td>\n",
       "    </tr>\n",
       "    <tr>\n",
       "      <th>2</th>\n",
       "      <td>1609</td>\n",
       "      <td>1673</td>\n",
       "      <td>1609</td>\n",
       "    </tr>\n",
       "    <tr>\n",
       "      <th>3</th>\n",
       "      <td>1612</td>\n",
       "      <td>1612</td>\n",
       "      <td>1651</td>\n",
       "    </tr>\n",
       "    <tr>\n",
       "      <th>4</th>\n",
       "      <td>1611</td>\n",
       "      <td>1611</td>\n",
       "      <td>1644</td>\n",
       "    </tr>\n",
       "    <tr>\n",
       "      <th>...</th>\n",
       "      <td>...</td>\n",
       "      <td>...</td>\n",
       "      <td>...</td>\n",
       "    </tr>\n",
       "    <tr>\n",
       "      <th>375</th>\n",
       "      <td>1623</td>\n",
       "      <td>1623</td>\n",
       "      <td>1639</td>\n",
       "    </tr>\n",
       "    <tr>\n",
       "      <th>376</th>\n",
       "      <td>0</td>\n",
       "      <td>1619</td>\n",
       "      <td>10531</td>\n",
       "    </tr>\n",
       "    <tr>\n",
       "      <th>377</th>\n",
       "      <td>1627</td>\n",
       "      <td>1627</td>\n",
       "      <td>1659</td>\n",
       "    </tr>\n",
       "    <tr>\n",
       "      <th>378</th>\n",
       "      <td>0</td>\n",
       "      <td>1644</td>\n",
       "      <td>1612</td>\n",
       "    </tr>\n",
       "    <tr>\n",
       "      <th>379</th>\n",
       "      <td>1609</td>\n",
       "      <td>1609</td>\n",
       "      <td>1631</td>\n",
       "    </tr>\n",
       "  </tbody>\n",
       "</table>\n",
       "<p>380 rows × 3 columns</p>\n",
       "</div>"
      ],
      "text/plain": [
       "     winner  home   away\n",
       "0      1659  1646   1659\n",
       "1      1628  1628   1627\n",
       "2      1609  1673   1609\n",
       "3      1612  1612   1651\n",
       "4      1611  1611   1644\n",
       "..      ...   ...    ...\n",
       "375    1623  1623   1639\n",
       "376       0  1619  10531\n",
       "377    1627  1627   1659\n",
       "378       0  1644   1612\n",
       "379    1609  1609   1631\n",
       "\n",
       "[380 rows x 3 columns]"
      ]
     },
     "execution_count": 26,
     "metadata": {},
     "output_type": "execute_result"
    }
   ],
   "source": [
    "dataset"
   ]
  },
  {
   "cell_type": "markdown",
   "metadata": {},
   "source": [
    "Ramdon selection of 5 teams for the Chi Squared test"
   ]
  },
  {
   "cell_type": "code",
   "execution_count": 27,
   "metadata": {},
   "outputs": [
    {
     "data": {
      "text/plain": [
       "array([ 1609,  1633,  1651,  1646, 10531])"
      ]
     },
     "execution_count": 27,
     "metadata": {},
     "output_type": "execute_result"
    }
   ],
   "source": [
    "small_sample = dataset['home'].unique()\n",
    "small_sample = np.random.choice(small_sample, 5, replace=False)\n",
    "small_sample"
   ]
  },
  {
   "cell_type": "markdown",
   "metadata": {},
   "source": [
    "Remove that match played among the teams we randomly selected"
   ]
  },
  {
   "cell_type": "code",
   "execution_count": 28,
   "metadata": {},
   "outputs": [],
   "source": [
    "import itertools\n",
    "matches_to_remove = list(itertools.permutations(small_sample, 2))\n"
   ]
  },
  {
   "cell_type": "code",
   "execution_count": 29,
   "metadata": {},
   "outputs": [],
   "source": [
    "rows_to_remove = []\n",
    "for i in matches_to_remove:\n",
    "    lst_h = dataset.index[dataset['home'] == i[0]].tolist() # all postions of the first team when playing at home\n",
    "    lst_a = dataset.index[dataset['away'] == i[1]].tolist() # all positions of the second team when playing away\n",
    "    rows_to_remove.append(list(set(lst_h).intersection(lst_a))) # the only position that is in common correspond \n",
    "                                                                # to the match to delete\n"
   ]
  },
  {
   "cell_type": "code",
   "execution_count": 30,
   "metadata": {},
   "outputs": [
    {
     "data": {
      "text/plain": [
       "(360, 3)"
      ]
     },
     "execution_count": 30,
     "metadata": {},
     "output_type": "execute_result"
    }
   ],
   "source": [
    "# Delete row with index label 'b' \n",
    "for j in rows_to_remove:\n",
    "    for p in j:\n",
    "        dataset = dataset.drop(p)\n",
    "dataset.shape"
   ]
  },
  {
   "cell_type": "markdown",
   "metadata": {},
   "source": [
    "### Contingency table"
   ]
  },
  {
   "cell_type": "code",
   "execution_count": 31,
   "metadata": {},
   "outputs": [
    {
     "name": "stdout",
     "output_type": "stream",
     "text": [
      "contingency table of 5 random teams \n",
      "\n",
      "team: Arsenal\n",
      "      win  draw  lose  all\n",
      "home   11     2     2   15\n",
      "away    3     3     9   15\n",
      "all    14     5    11   30 \n",
      "\n",
      "*********************************** \n",
      "\n",
      "team: West Ham United\n",
      "      win  draw  lose  all\n",
      "home    6     5     4   15\n",
      "away    3     5     7   15\n",
      "all     9    10    11   30 \n",
      "\n",
      "*********************************** \n",
      "\n",
      "team: Brighton & Hove Albion\n",
      "      win  draw  lose  all\n",
      "home    4     7     4   15\n",
      "away    0     5    10   15\n",
      "all     4    12    14   30 \n",
      "\n",
      "*********************************** \n",
      "\n",
      "team: Burnley\n",
      "      win  draw  lose  all\n",
      "home    6     3     6   15\n",
      "away    6     6     3   15\n",
      "all    12     9     9   30 \n",
      "\n",
      "*********************************** \n",
      "\n",
      "team: Swansea City\n",
      "      win  draw  lose  all\n",
      "home    3     3     9   15\n",
      "away    2     6     7   15\n",
      "all     5     9    16   30 \n",
      "\n",
      "*********************************** \n",
      "\n"
     ]
    }
   ],
   "source": [
    "print('contingency table of 5 random teams', \"\\n\")\n",
    "\n",
    "draw_h_all = 0    # total number of draw when playing at home\n",
    "draw_a_all = 0    # total number of draw when playing away\n",
    "win_h_all = 0    # total number of win when playing at home\n",
    "lose_h_all = 0    # total number of lose when playing at home\n",
    "win_a_all = 0    # total number of win when playing away\n",
    "lose_a_all = 0   # total number of lose when playing away \n",
    "\n",
    "for team in small_sample:\n",
    "    \n",
    "    draw_h = 0   # number of draw when playing at home\n",
    "    draw_a = 0   # number of draw when playing away\n",
    "    win_h = 0    # number of win when playing at home\n",
    "    lose_h = 0    # number of lose when playing at home\n",
    "    win_a = 0     #number of win when playing away\n",
    "    lose_a = 0   # number of lose when playing away\n",
    "    \n",
    "    lst_h = dataset.index[dataset['home'] == team].tolist() # get the index of the team when playing at home\n",
    "    lst_a = dataset.index[dataset['away'] == team].tolist() # get the index of the team when playing at home\n",
    "    \n",
    "    for pos in lst_h:\n",
    "        if dataset['winner'][pos] == 0:   # when there is a zero, we have a draw\n",
    "            draw_h += 1\n",
    "        else:\n",
    "            if dataset['winner'][pos] == dataset['home'][pos]:  # when playing at home count the number of wins\n",
    "                win_h += 1\n",
    "            else:\n",
    "                lose_h += 1\n",
    "    for pos in lst_a:\n",
    "        if dataset['winner'][pos] == 0:      # when there is a zero, we have a draw\n",
    "            draw_a += 1\n",
    "        else:\n",
    "            if dataset['winner'][pos] == dataset['away'][pos]:     # when playing away count the number of wins\n",
    "                win_a += 1\n",
    "            else:\n",
    "                lose_a += 1\n",
    "                \n",
    "    draw_h_all += draw_h\n",
    "    draw_a_all += draw_a\n",
    "    win_h_all += win_h\n",
    "    lose_h_all += lose_h\n",
    "    win_a_all += win_a\n",
    "    lose_a_all += lose_a\n",
    "    \n",
    "                \n",
    "                # create the contingency table\n",
    "    df = pd.DataFrame({'win':[win_h, win_a, (win_h + win_a)], \n",
    "                       'draw': [draw_h, draw_a, (draw_h + draw_a)], \n",
    "                       'lose' : [lose_h, lose_a, (lose_h + lose_a)],\n",
    "                      'all': [(win_h + draw_h + lose_h), (win_a + draw_a + lose_a), \n",
    "                              (win_h + draw_h + lose_h + win_a + draw_a + lose_a)]})\n",
    "    df.index = ('home', 'away', 'all')\n",
    "    \n",
    "    j = teams.name[teams.wyId == team].index.tolist()[0]\n",
    "    team_name = teams['name'][j]\n",
    "    \n",
    "    print('team: '+ team_name)\n",
    "    print(df, \"\\n\")\n",
    "    print('***********************************', \"\\n\")"
   ]
  },
  {
   "cell_type": "code",
   "execution_count": 32,
   "metadata": {},
   "outputs": [
    {
     "name": "stdout",
     "output_type": "stream",
     "text": [
      "overall contingency table\n",
      "      win  draw  lose  all\n",
      "home   30    20    25   75\n",
      "away   14    25    36   75\n",
      "all    44    45    61  150\n"
     ]
    }
   ],
   "source": [
    "print('overall contingency table')\n",
    "\n",
    "df = pd.DataFrame({'win':[win_h_all, win_a_all, (win_h_all + win_a_all)], \n",
    "                   'draw': [draw_h_all, draw_a_all, (draw_h_all + draw_a_all)], \n",
    "                   'lose' : [lose_h_all, lose_a_all, (lose_h_all + lose_a_all)],\n",
    "                  'all': [(win_h_all + draw_h_all + lose_h_all), (win_a_all + draw_a_all + lose_a_all), \n",
    "                          (win_h_all + draw_h_all + lose_h_all + win_a_all + draw_a_all + lose_a_all)]})\n",
    "df.index = ('home', 'away', 'all')\n",
    "print(df)"
   ]
  },
  {
   "cell_type": "code",
   "execution_count": 33,
   "metadata": {},
   "outputs": [
    {
     "name": "stdout",
     "output_type": "stream",
     "text": [
      "      win  draw  lose  all\n",
      "home   30    20    25   75\n",
      "away   14    25    36   75\n",
      "all    44    45    61  150 \n",
      "\n",
      "Our NULL Hypothesis is that there is home field advantage in sport \n",
      "\n",
      "dof=6 \n",
      "\n",
      "[[ 22.   22.5  30.5  75. ]\n",
      " [ 22.   22.5  30.5  75. ]\n",
      " [ 44.   45.   61.  150. ]] \n",
      "\n",
      "probability=0.950, critical=12.592, stat=8.357 \n",
      "\n",
      "Independent (fail to reject H0) \n",
      "\n",
      "significance=0.050, p=0.213 \n",
      "\n",
      "Independent (fail to reject H0) \n",
      "\n"
     ]
    }
   ],
   "source": [
    "from scipy.stats import chi2_contingency\n",
    "from scipy.stats import chi2\n",
    "\n",
    "# contingency table\n",
    "\n",
    "table = df\n",
    "print(table, \"\\n\")\n",
    "print('Our NULL Hypothesis is that there is home field advantage in sport', \"\\n\")\n",
    "\n",
    "stat, p, dof, expected = chi2_contingency(table)\n",
    "print('dof=%d' % dof, \"\\n\")\n",
    "print(expected, \"\\n\")\n",
    "\n",
    "\n",
    "\n",
    "# interpret test-statistic\n",
    "prob = 0.95\n",
    "critical = chi2.ppf(prob, dof)\n",
    "\n",
    "print('probability=%.3f, critical=%.3f, stat=%.3f' % (prob, critical, stat), \"\\n\")\n",
    "\n",
    "if abs(stat) >= critical:\n",
    "    print('Dependent (reject H0)', \"\\n\")\n",
    "else:\n",
    "    print('Independent (fail to reject H0)', \"\\n\")\n",
    "    \n",
    "# interpret p-value\n",
    "alpha = 1.0 - prob\n",
    "print('significance=%.3f, p=%.3f' % (alpha, p), \"\\n\")\n",
    "if p <= alpha:\n",
    "    print('Dependent (reject H0)', \"\\n\")\n",
    "else:\n",
    "    print('Independent (fail to reject H0)', \"\\n\")\n",
    "\n"
   ]
  },
  {
   "cell_type": "markdown",
   "metadata": {},
   "source": [
    "# Conclusion"
   ]
  },
  {
   "cell_type": "markdown",
   "metadata": {},
   "source": [
    "After our building our overall contingency table and performing our Chi Squared test. We argue that there is not a relationship between that field (home, away) and the result of the match (win, draw and lose). WE arrived to this conclusion because we fail to reject our Null Hypotesis (stating the correlation between the feild and the match's result). "
   ]
  }
 ],
 "metadata": {
  "kernelspec": {
   "display_name": "Python 3",
   "language": "python",
   "name": "python3"
  },
  "language_info": {
   "codemirror_mode": {
    "name": "ipython",
    "version": 3
   },
   "file_extension": ".py",
   "mimetype": "text/x-python",
   "name": "python",
   "nbconvert_exporter": "python",
   "pygments_lexer": "ipython3",
   "version": "3.6.8"
  }
 },
 "nbformat": 4,
 "nbformat_minor": 2
}
