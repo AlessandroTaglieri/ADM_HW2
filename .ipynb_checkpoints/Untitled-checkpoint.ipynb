{
 "cells": [
  {
   "cell_type": "markdown",
   "metadata": {},
   "source": [
    "## Define function in python"
   ]
  },
  {
   "cell_type": "code",
   "execution_count": 60,
   "metadata": {},
   "outputs": [],
   "source": [
    "def swapList(a, l, n):\n",
    "    for i in range(int(n/2)):\n",
    "        tmp = a[l + i]\n",
    "        a[l + i] = a[(l + int(n/2) + i)]\n",
    "        a[(l + int(n/2) + i)] = tmp\n",
    "\n",
    "def splitSwap(a, l, n):\n",
    "    if (n <= 1):\n",
    "        return\n",
    "    else:\n",
    "        splitSwap(a, l, int(n/2))\n",
    "        splitSwap(a, int(l + n /2), int(n/2))\n",
    "        swapList(a, l, n)"
   ]
  },
  {
   "cell_type": "markdown",
   "metadata": {},
   "source": [
    "## We made an array \"a\" with random elements and random size. After we have calculate running time of splitSwap(a, l, n)."
   ]
  },
  {
   "cell_type": "code",
   "execution_count": 61,
   "metadata": {},
   "outputs": [],
   "source": [
    "import numpy as np\n",
    "import time\n",
    "# to check the running time arrays of size in range 10000 to 500000 is randomly made\n",
    "results = list()\n",
    "for i in range(1,50):\n",
    "    a = list(np.random.randint(0, high=10, size=i*100))\n",
    "    start_time = time.time()\n",
    "    splitSwap(a, 0,len(a))\n",
    "    results.append([i*100, time.time() - start_time])"
   ]
  },
  {
   "cell_type": "code",
   "execution_count": 62,
   "metadata": {},
   "outputs": [],
   "source": [
    "import pandas as pd\n",
    "results_df = pd.DataFrame(results)"
   ]
  },
  {
   "cell_type": "code",
   "execution_count": 63,
   "metadata": {},
   "outputs": [
    {
     "data": {
      "text/html": [
       "<div>\n",
       "<style scoped>\n",
       "    .dataframe tbody tr th:only-of-type {\n",
       "        vertical-align: middle;\n",
       "    }\n",
       "\n",
       "    .dataframe tbody tr th {\n",
       "        vertical-align: top;\n",
       "    }\n",
       "\n",
       "    .dataframe thead th {\n",
       "        text-align: right;\n",
       "    }\n",
       "</style>\n",
       "<table border=\"1\" class=\"dataframe\">\n",
       "  <thead>\n",
       "    <tr style=\"text-align: right;\">\n",
       "      <th></th>\n",
       "      <th>0</th>\n",
       "      <th>1</th>\n",
       "    </tr>\n",
       "  </thead>\n",
       "  <tbody>\n",
       "    <tr>\n",
       "      <th>0</th>\n",
       "      <td>100</td>\n",
       "      <td>0.000357</td>\n",
       "    </tr>\n",
       "    <tr>\n",
       "      <th>1</th>\n",
       "      <td>200</td>\n",
       "      <td>0.000772</td>\n",
       "    </tr>\n",
       "    <tr>\n",
       "      <th>2</th>\n",
       "      <td>300</td>\n",
       "      <td>0.001454</td>\n",
       "    </tr>\n",
       "    <tr>\n",
       "      <th>3</th>\n",
       "      <td>400</td>\n",
       "      <td>0.002491</td>\n",
       "    </tr>\n",
       "    <tr>\n",
       "      <th>4</th>\n",
       "      <td>500</td>\n",
       "      <td>0.002242</td>\n",
       "    </tr>\n",
       "  </tbody>\n",
       "</table>\n",
       "</div>"
      ],
      "text/plain": [
       "     0         1\n",
       "0  100  0.000357\n",
       "1  200  0.000772\n",
       "2  300  0.001454\n",
       "3  400  0.002491\n",
       "4  500  0.002242"
      ]
     },
     "execution_count": 63,
     "metadata": {},
     "output_type": "execute_result"
    }
   ],
   "source": [
    "results_df.head()"
   ]
  },
  {
   "cell_type": "code",
   "execution_count": 64,
   "metadata": {},
   "outputs": [
    {
     "data": {
      "text/html": [
       "<div>\n",
       "<style scoped>\n",
       "    .dataframe tbody tr th:only-of-type {\n",
       "        vertical-align: middle;\n",
       "    }\n",
       "\n",
       "    .dataframe tbody tr th {\n",
       "        vertical-align: top;\n",
       "    }\n",
       "\n",
       "    .dataframe thead th {\n",
       "        text-align: right;\n",
       "    }\n",
       "</style>\n",
       "<table border=\"1\" class=\"dataframe\">\n",
       "  <thead>\n",
       "    <tr style=\"text-align: right;\">\n",
       "      <th></th>\n",
       "      <th>array_size</th>\n",
       "      <th>runing_time</th>\n",
       "    </tr>\n",
       "  </thead>\n",
       "  <tbody>\n",
       "    <tr>\n",
       "      <th>0</th>\n",
       "      <td>100</td>\n",
       "      <td>0.000357</td>\n",
       "    </tr>\n",
       "    <tr>\n",
       "      <th>1</th>\n",
       "      <td>200</td>\n",
       "      <td>0.000772</td>\n",
       "    </tr>\n",
       "    <tr>\n",
       "      <th>2</th>\n",
       "      <td>300</td>\n",
       "      <td>0.001454</td>\n",
       "    </tr>\n",
       "    <tr>\n",
       "      <th>3</th>\n",
       "      <td>400</td>\n",
       "      <td>0.002491</td>\n",
       "    </tr>\n",
       "    <tr>\n",
       "      <th>4</th>\n",
       "      <td>500</td>\n",
       "      <td>0.002242</td>\n",
       "    </tr>\n",
       "  </tbody>\n",
       "</table>\n",
       "</div>"
      ],
      "text/plain": [
       "   array_size  runing_time\n",
       "0         100     0.000357\n",
       "1         200     0.000772\n",
       "2         300     0.001454\n",
       "3         400     0.002491\n",
       "4         500     0.002242"
      ]
     },
     "execution_count": 64,
     "metadata": {},
     "output_type": "execute_result"
    }
   ],
   "source": [
    "results_df.columns = ['array_size','runing_time']\n",
    "results_df.head()\n"
   ]
  },
  {
   "cell_type": "markdown",
   "metadata": {},
   "source": [
    "## We have shown results with a plot"
   ]
  },
  {
   "cell_type": "code",
   "execution_count": 65,
   "metadata": {},
   "outputs": [
    {
     "data": {
      "image/png": "[encoded data removed]",
      "text/plain": [
       "<Figure size 432x288 with 1 Axes>"
      ]
     },
     "metadata": {
      "needs_background": "light"
     },
     "output_type": "display_data"
    }
   ],
   "source": [
    "import matplotlib.pyplot as plt\n",
    "\n",
    "ax = plt.gca()\n",
    "\n",
    "results_df.plot(kind='line',x='array_size',y='runing_time',ax=ax)\n",
    "plt.show()\n"
   ]
  },
  {
   "cell_type": "markdown",
   "metadata": {},
   "source": [
    "## Running time"
   ]
  },
  {
   "cell_type": "markdown",
   "metadata": {},
   "source": [
    "We can start to calculate the running time about SwapList(a, l, n) function. The cost of this function is given solely by the number of iterations of the for loop, since the operation it performs requires a constant time O(1). The for cycle will always be repeated n / 2 times, there are no situations where you end before or after.\n",
    "\n",
    "Therefore we can conclude this function has a temporal complexity equal to: O(n/2) = O(½∙n) ≈ O(n)\n",
    "\n",
    "Now, we can study the main function: splitSwap(a, l, n). This is a recorsive function. The base case corresponds to n <= 1.\n",
    "\n",
    "For n> 1 there will instead be two recursive calls that will divide the problem into two sub-problems of size n / 2.\n",
    "\n",
    "In addition, we will also make a call to SwapList(a, l, n) which we established to have a complexity O(n).\n",
    "\n",
    "Therefore calling T the recursive function we will have that the recurrence equation will be equal to:\n",
    "\n",
    "T (n) = 2T (n / 2) + O(n)\n",
    "\n",
    "This situation allows you to apply the master theorem to solve the recurrence, and the result will be exactly the same as:\n",
    "\n",
    "T (n) = O(n ∙ log (n))\n",
    "\n",
    "where log (n) is the logarithm in base 2 of n.\n",
    "\n",
    "We can conclude by saying that the overall temporal complexity of the program is equal to:\n",
    "\n",
    "## O(n ∙ log (n))"
   ]
  },
  {
   "cell_type": "code",
   "execution_count": null,
   "metadata": {},
   "outputs": [],
   "source": []
  }
 ],
 "metadata": {
  "kernelspec": {
   "display_name": "Python 3",
   "language": "python",
   "name": "python3"
  },
  "language_info": {
   "codemirror_mode": {
    "name": "ipython",
    "version": 3
   },
   "file_extension": ".py",
   "mimetype": "text/x-python",
   "name": "python",
   "nbconvert_exporter": "python",
   "pygments_lexer": "ipython3",
   "version": "3.7.3"
  }
 },
 "nbformat": 4,
 "nbformat_minor": 2
}
