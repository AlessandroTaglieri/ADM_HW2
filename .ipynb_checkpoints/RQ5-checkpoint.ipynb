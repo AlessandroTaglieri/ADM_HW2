{
 "cells": [
  {
   "cell_type": "markdown",
   "metadata": {},
   "source": [
    "# RQ5 - Does being a tall player mean winning more air duels?"
   ]
  },
  {
   "cell_type": "code",
   "execution_count": 26,
   "metadata": {},
   "outputs": [],
   "source": [ 
    "import json \n",
    "import seaborn as sns\n",
    "import matplotlib.pyplot as plt\n",
    "import pandas as pd \n",
    "from pandas.io.json import json_normalize #package for flattening json in pandas df\n"
   ]
  },
  {
   "cell_type": "markdown",
   "metadata": {},
   "source": [
    "# Import data"
   ]
  },
  {
   "cell_type": "code",
   "execution_count": 10,
   "metadata": {},
   "outputs": [],
   "source": [
    "#load event_Engalnd.json file and import it in a pandas dataframe called 'events'\n",
    "with open('/Users/digitalfirst/Desktop/homework_dataFrame/events/events_England.json') as f:\n",
    "    d = json.load(f)\n",
    "\n",
    "events = json_normalize(data=d, record_path='tags', \n",
    "                            meta=['subEventName', 'playerId'])\n",
    "\n",
    "\n",
    "#load players.json file and import it in a pandas dataframe called 'players'. \n",
    "with open('/Users/digitalfirst/Desktop/homework_dataFrame/players.json') as f:\n",
    "    d = json.load(f)\n",
    "players = json_normalize(d)\n",
    "#get only height and wyId for every player\n",
    "players=players[['height','wyId','shortName']]\n",
    "\n"
   ]
  },
  {
   "cell_type": "markdown",
   "metadata": {},
   "source": [
    "We have choosen to consider air duel accurate (tag=1801) as air duel won, and not accurate air duel (tag=1802) as air duel lost"
   ]
  },
  {
   "cell_type": "code",
   "execution_count": 27,
   "metadata": {},
   "outputs": [],
   "source": [
    "#filter dataframe to get only air duel\n",
    "air_duel=events.loc[events['subEventName'] == \"Air duel\"]\n",
    "\n",
    "#filter only air duel with tag id that is equal to 1801 or 1802. \n",
    "air_duel=air_duel.loc[(air_duel['id'] == 1801) | (air_duel['id'] == 1802)]\n"
   ]
  },
  {
   "cell_type": "markdown",
   "metadata": {},
   "source": [
    "We have choosen a threshold of minimum air duels attempted, equal to 10"
   ]
  },
  {
   "cell_type": "code",
   "execution_count": 28,
   "metadata": {},
   "outputs": [],
   "source": [
    "#merge players and air_duel datafram to get a dataframe with evry air duel of every player\n",
    "df_merge = pd.merge(air_duel,players,left_on='playerId', right_on='wyId')\n",
    "df_merge=df_merge[['height','id','wyId','shortName']]\n",
    "\n",
    "#with groupby i count for every players how many air duel has attempted\n",
    "df_merge=pd.DataFrame({'count' : df_merge.groupby(['height','wyId','shortName']).wyId.count()}).reset_index()\n",
    "\n",
    "#set a threshold (=10) of minimum air duels attempted for every players\n",
    "indexNames = df_merge[ df_merge['count'] < 10 ].index\n",
    "df_merge.drop(indexNames , inplace=True)\n",
    "\n",
    "\n",
    "#merge air_duel with df_merge. In this way i have every tag id for every air duel attempted from the respective players (with minmum 10 air duels attempted)\n",
    "#every players is identified by his height\n",
    "airDuel_threshold = pd.merge(air_duel,df_merge,left_on='playerId', right_on='wyId')\n",
    "airDuel_threshold = airDuel_threshold[['height','id','shortName']]\n",
    "\n"
   ]
  },
  {
   "cell_type": "code",
   "execution_count": 29,
   "metadata": {},
   "outputs": [],
   "source": [
    "#put all air duel accurate in airduel_won \n",
    "airDuel_won=airDuel_threshold.loc[airDuel_threshold['id'] == 1801]\n",
    "\n",
    "#put all air duel not accurate in airduel_won \n",
    "airDuel_lose=airDuel_threshold.loc[airDuel_threshold['id'] == 1802]\n",
    "\n"
   ]
  },
  {
   "cell_type": "markdown",
   "metadata": {},
   "source": [
    "We got the amnount of accurate air duel for evry height"
   ]
  },
  {
   "cell_type": "code",
   "execution_count": 30,
   "metadata": {},
   "outputs": [
    {
     "data": {
      "text/html": [
       "<div>\n",
       "<style scoped>\n",
       "    .dataframe tbody tr th:only-of-type {\n",
       "        vertical-align: middle;\n",
       "    }\n",
       "\n",
       "    .dataframe tbody tr th {\n",
       "        vertical-align: top;\n",
       "    }\n",
       "\n",
       "    .dataframe thead th {\n",
       "        text-align: right;\n",
       "    }\n",
       "</style>\n",
       "<table border=\"1\" class=\"dataframe\">\n",
       "  <thead>\n",
       "    <tr style=\"text-align: right;\">\n",
       "      <th></th>\n",
       "      <th>height</th>\n",
       "      <th>count_accurate</th>\n",
       "    </tr>\n",
       "  </thead>\n",
       "  <tbody>\n",
       "    <tr>\n",
       "      <th>0</th>\n",
       "      <td>163</td>\n",
       "      <td>16</td>\n",
       "    </tr>\n",
       "    <tr>\n",
       "      <th>1</th>\n",
       "      <td>165</td>\n",
       "      <td>13</td>\n",
       "    </tr>\n",
       "    <tr>\n",
       "      <th>2</th>\n",
       "      <td>167</td>\n",
       "      <td>17</td>\n",
       "    </tr>\n",
       "    <tr>\n",
       "      <th>3</th>\n",
       "      <td>168</td>\n",
       "      <td>71</td>\n",
       "    </tr>\n",
       "    <tr>\n",
       "      <th>4</th>\n",
       "      <td>169</td>\n",
       "      <td>31</td>\n",
       "    </tr>\n",
       "    <tr>\n",
       "      <th>5</th>\n",
       "      <td>170</td>\n",
       "      <td>124</td>\n",
       "    </tr>\n",
       "  </tbody>\n",
       "</table>\n",
       "</div>"
      ],
      "text/plain": [
       "   height  count_accurate\n",
       "0     163              16\n",
       "1     165              13\n",
       "2     167              17\n",
       "3     168              71\n",
       "4     169              31\n",
       "5     170             124"
      ]
     },
     "execution_count": 30,
     "metadata": {},
     "output_type": "execute_result"
    }
   ],
   "source": [
    "#with groupby i count occurences of every height in dataframe airduel_won (i.e. where air duel is accurate). 'df_total_win' contains every height with rispective amount of air duel won\n",
    "df_total_win=pd.DataFrame({'count' : airDuel_won.groupby(['height','id']).height.count()}).reset_index()\n",
    "df_total_win=df_total_win.drop(['id'], axis=1).rename(columns={\"count\": \"count_accurate\"})\n",
    "df_total_win.head(6)"
   ]
  },
  {
   "cell_type": "markdown",
   "metadata": {},
   "source": [
    "We got the amnount of not accurate air duel for evry height"
   ]
  },
  {
   "cell_type": "code",
   "execution_count": 31,
   "metadata": {},
   "outputs": [
    {
     "data": {
      "text/html": [
       "<div>\n",
       "<style scoped>\n",
       "    .dataframe tbody tr th:only-of-type {\n",
       "        vertical-align: middle;\n",
       "    }\n",
       "\n",
       "    .dataframe tbody tr th {\n",
       "        vertical-align: top;\n",
       "    }\n",
       "\n",
       "    .dataframe thead th {\n",
       "        text-align: right;\n",
       "    }\n",
       "</style>\n",
       "<table border=\"1\" class=\"dataframe\">\n",
       "  <thead>\n",
       "    <tr style=\"text-align: right;\">\n",
       "      <th></th>\n",
       "      <th>height</th>\n",
       "      <th>count_not_accurate</th>\n",
       "    </tr>\n",
       "  </thead>\n",
       "  <tbody>\n",
       "    <tr>\n",
       "      <th>0</th>\n",
       "      <td>163</td>\n",
       "      <td>25</td>\n",
       "    </tr>\n",
       "    <tr>\n",
       "      <th>1</th>\n",
       "      <td>165</td>\n",
       "      <td>22</td>\n",
       "    </tr>\n",
       "    <tr>\n",
       "      <th>2</th>\n",
       "      <td>167</td>\n",
       "      <td>71</td>\n",
       "    </tr>\n",
       "    <tr>\n",
       "      <th>3</th>\n",
       "      <td>168</td>\n",
       "      <td>92</td>\n",
       "    </tr>\n",
       "    <tr>\n",
       "      <th>4</th>\n",
       "      <td>169</td>\n",
       "      <td>74</td>\n",
       "    </tr>\n",
       "    <tr>\n",
       "      <th>5</th>\n",
       "      <td>170</td>\n",
       "      <td>129</td>\n",
       "    </tr>\n",
       "  </tbody>\n",
       "</table>\n",
       "</div>"
      ],
      "text/plain": [
       "   height  count_not_accurate\n",
       "0     163                  25\n",
       "1     165                  22\n",
       "2     167                  71\n",
       "3     168                  92\n",
       "4     169                  74\n",
       "5     170                 129"
      ]
     },
     "execution_count": 31,
     "metadata": {},
     "output_type": "execute_result"
    }
   ],
   "source": [
    "\n",
    "#with groupby i count occurences of every height in dataframe airduel_lose (i.e. where air duel is not accurate). 'df_total_lose' countanis every height qith rispective amount of air duel lose\n",
    "df_total_lose = pd.DataFrame({'count' : airDuel_lose.groupby(['height','id']).height.count()}).reset_index()\n",
    "df_total_lose=df_total_lose.drop(['id'], axis=1).rename(columns={\"count\": \"count_not_accurate\"})\n",
    "df_total_lose.head(6)"
   ]
  },
  {
   "cell_type": "markdown",
   "metadata": {},
   "source": [
    "For every height we got the amount of accurate air duel, not accurate air duel, total air duel and ratio between accurate air duel and the total amount of air duel"
   ]
  },
  {
   "cell_type": "code",
   "execution_count": 32,
   "metadata": {},
   "outputs": [
    {
     "data": {
      "text/html": [
       "<div>\n",
       "<style scoped>\n",
       "    .dataframe tbody tr th:only-of-type {\n",
       "        vertical-align: middle;\n",
       "    }\n",
       "\n",
       "    .dataframe tbody tr th {\n",
       "        vertical-align: top;\n",
       "    }\n",
       "\n",
       "    .dataframe thead th {\n",
       "        text-align: right;\n",
       "    }\n",
       "</style>\n",
       "<table border=\"1\" class=\"dataframe\">\n",
       "  <thead>\n",
       "    <tr style=\"text-align: right;\">\n",
       "      <th></th>\n",
       "      <th>height</th>\n",
       "      <th>count_not_accurate</th>\n",
       "      <th>count_accurate</th>\n",
       "      <th>total_air_duel</th>\n",
       "      <th>ratio_air_duel</th>\n",
       "    </tr>\n",
       "  </thead>\n",
       "  <tbody>\n",
       "    <tr>\n",
       "      <th>0</th>\n",
       "      <td>163</td>\n",
       "      <td>25</td>\n",
       "      <td>16</td>\n",
       "      <td>41</td>\n",
       "      <td>39.024390</td>\n",
       "    </tr>\n",
       "    <tr>\n",
       "      <th>1</th>\n",
       "      <td>165</td>\n",
       "      <td>22</td>\n",
       "      <td>13</td>\n",
       "      <td>35</td>\n",
       "      <td>37.142857</td>\n",
       "    </tr>\n",
       "    <tr>\n",
       "      <th>2</th>\n",
       "      <td>167</td>\n",
       "      <td>71</td>\n",
       "      <td>17</td>\n",
       "      <td>88</td>\n",
       "      <td>19.318182</td>\n",
       "    </tr>\n",
       "    <tr>\n",
       "      <th>3</th>\n",
       "      <td>168</td>\n",
       "      <td>92</td>\n",
       "      <td>71</td>\n",
       "      <td>163</td>\n",
       "      <td>43.558282</td>\n",
       "    </tr>\n",
       "    <tr>\n",
       "      <th>4</th>\n",
       "      <td>169</td>\n",
       "      <td>74</td>\n",
       "      <td>31</td>\n",
       "      <td>105</td>\n",
       "      <td>29.523810</td>\n",
       "    </tr>\n",
       "    <tr>\n",
       "      <th>5</th>\n",
       "      <td>170</td>\n",
       "      <td>129</td>\n",
       "      <td>124</td>\n",
       "      <td>253</td>\n",
       "      <td>49.011858</td>\n",
       "    </tr>\n",
       "    <tr>\n",
       "      <th>6</th>\n",
       "      <td>171</td>\n",
       "      <td>102</td>\n",
       "      <td>45</td>\n",
       "      <td>147</td>\n",
       "      <td>30.612245</td>\n",
       "    </tr>\n",
       "    <tr>\n",
       "      <th>7</th>\n",
       "      <td>172</td>\n",
       "      <td>151</td>\n",
       "      <td>99</td>\n",
       "      <td>250</td>\n",
       "      <td>39.600000</td>\n",
       "    </tr>\n",
       "    <tr>\n",
       "      <th>8</th>\n",
       "      <td>173</td>\n",
       "      <td>352</td>\n",
       "      <td>267</td>\n",
       "      <td>619</td>\n",
       "      <td>43.134087</td>\n",
       "    </tr>\n",
       "    <tr>\n",
       "      <th>9</th>\n",
       "      <td>174</td>\n",
       "      <td>289</td>\n",
       "      <td>272</td>\n",
       "      <td>561</td>\n",
       "      <td>48.484848</td>\n",
       "    </tr>\n",
       "    <tr>\n",
       "      <th>10</th>\n",
       "      <td>175</td>\n",
       "      <td>577</td>\n",
       "      <td>425</td>\n",
       "      <td>1002</td>\n",
       "      <td>42.415170</td>\n",
       "    </tr>\n",
       "    <tr>\n",
       "      <th>11</th>\n",
       "      <td>176</td>\n",
       "      <td>499</td>\n",
       "      <td>518</td>\n",
       "      <td>1017</td>\n",
       "      <td>50.934120</td>\n",
       "    </tr>\n",
       "    <tr>\n",
       "      <th>12</th>\n",
       "      <td>177</td>\n",
       "      <td>226</td>\n",
       "      <td>213</td>\n",
       "      <td>439</td>\n",
       "      <td>48.519362</td>\n",
       "    </tr>\n",
       "    <tr>\n",
       "      <th>13</th>\n",
       "      <td>178</td>\n",
       "      <td>992</td>\n",
       "      <td>1051</td>\n",
       "      <td>2043</td>\n",
       "      <td>51.443955</td>\n",
       "    </tr>\n",
       "    <tr>\n",
       "      <th>14</th>\n",
       "      <td>179</td>\n",
       "      <td>514</td>\n",
       "      <td>538</td>\n",
       "      <td>1052</td>\n",
       "      <td>51.140684</td>\n",
       "    </tr>\n",
       "  </tbody>\n",
       "</table>\n",
       "</div>"
      ],
      "text/plain": [
       "    height  count_not_accurate  count_accurate  total_air_duel  ratio_air_duel\n",
       "0      163                  25              16              41       39.024390\n",
       "1      165                  22              13              35       37.142857\n",
       "2      167                  71              17              88       19.318182\n",
       "3      168                  92              71             163       43.558282\n",
       "4      169                  74              31             105       29.523810\n",
       "5      170                 129             124             253       49.011858\n",
       "6      171                 102              45             147       30.612245\n",
       "7      172                 151              99             250       39.600000\n",
       "8      173                 352             267             619       43.134087\n",
       "9      174                 289             272             561       48.484848\n",
       "10     175                 577             425            1002       42.415170\n",
       "11     176                 499             518            1017       50.934120\n",
       "12     177                 226             213             439       48.519362\n",
       "13     178                 992            1051            2043       51.443955\n",
       "14     179                 514             538            1052       51.140684"
      ]
     },
     "execution_count": 32,
     "metadata": {},
     "output_type": "execute_result"
    }
   ],
   "source": [
    "#merge df_total_lose and df_total_win. In this way we have a single dataframe 'height_passes' with amount of air duel won/lose for every height\n",
    "height_passes = pd.merge(df_total_lose,df_total_win,left_on='height', right_on='height')\n",
    "\n",
    "#from 'height_passes' i caluclate the total air duel for every height and put these results in a new column 'total_air_duel'\n",
    "height_passes[\"total_air_duel\"] = height_passes[\"count_not_accurate\"]+height_passes[\"count_accurate\"]\n",
    "\n",
    "#I calculate the ratio in % bettween air duel won and total air duel for every height\n",
    "height_passes[\"ratio_air_duel\"] = height_passes[\"count_accurate\"]/height_passes[\"total_air_duel\"]\n",
    "height_passes[\"ratio_air_duel\"] = height_passes[\"ratio_air_duel\"] *100\n",
    "\n",
    "height_passes.head(15)\n"
   ]
  },
  {
   "cell_type": "markdown",
   "metadata": {},
   "source": [
    "We have drawn a Scatterplot thtat represents the ratio between the amount of air duel won and the amount of air total attempted from every different height. We have choosen to color with 5 different colors the different points on the scatterplot (1 color for every range of 15 cm, as written in legend)  "
   ]
  },
  {
   "cell_type": "code",
   "execution_count": 49,
   "metadata": {},
   "outputs": [
    {
     "data": {
      "image/png": "[encoded data removed]",
      "text/plain": [
       "<Figure size 432x288 with 1 Axes>"
      ]
     },
     "metadata": {
      "needs_background": "light"
     },
     "output_type": "display_data"
    }
   ],
   "source": [
    "#draw scatterplot with different colo evry 15 cm\n",
    "scatterPlot = sns.scatterplot(x=\"height\", y=\"ratio_air_duel\", hue=\"height\", data=height_passes)\n"
   ]
  },
  {
   "cell_type": "code",
   "execution_count": null,
   "metadata": {},
   "outputs": [],
   "source": []
  }
 ],
 "metadata": {
  "celltoolbar": "Raw Cell Format",
  "kernelspec": {
   "display_name": "Python 3",
   "language": "python",
   "name": "python3"
  },
  "language_info": {
   "codemirror_mode": {
    "name": "ipython",
    "version": 3
   },
   "file_extension": ".py",
   "mimetype": "text/x-python",
   "name": "python",
   "nbconvert_exporter": "python",
   "pygments_lexer": "ipython3",
   "version": "3.7.3"
  }
 },
 "nbformat": 4,
 "nbformat_minor": 2
}
