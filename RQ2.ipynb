{
 "cells": [
  {
   "cell_type": "code",
   "execution_count": 1,
   "metadata": {},
   "outputs": [],
   "source": [
    "import json \n",
    "from datetime import date\n",
    "import seaborn as sns\n",
    "import matplotlib.pyplot as plt\n",
    "import pandas as pd \n",
    "from pandas.io.json import json_normalize #package for flattening json in pandas df\n",
    "\n",
    "#load teams.json in df_teams dataframe\n",
    "with open('/Users/digitalfirst/Desktop/homework_dataFrame/teams.json') as f:\n",
    "    teams = json.load(f)\n",
    "df_teams = json_normalize(teams)\n",
    "#filter for club teams \n",
    "df_teams_club=df_teams.loc[(df_teams[\"type\"] == \"club\")]\n",
    "#filter for different nation and put teams for every nation\n",
    "df_teams_england=df_teams_club.loc[(df_teams_club[\"area.name\"] == \"England\")]\n",
    "df_teams_italy=df_teams_club.loc[(df_teams_club[\"area.name\"] == \"Italy\")]\n",
    "df_teams_spain=df_teams_club.loc[(df_teams_club[\"area.name\"] == \"Spain\")]\n",
    "df_teams_germany=df_teams_club.loc[(df_teams_club[\"area.name\"] == \"Germany\")]\n",
    "df_teams_france=df_teams_club.loc[(df_teams_club[\"area.name\"] == \"France\")]\n"
   ]
  },
  {
   "cell_type": "code",
   "execution_count": 3,
   "metadata": {},
   "outputs": [],
   "source": [
    "#this a function that calucate age from a born year that we give in input\n",
    "def calculate_age(born):\n",
    "    today = date.today()\n",
    "    year, month, day = [int(f) for f in born.split('-')]\n",
    "    return today.year - year - ((today.month, today.day) < (month, day))"
   ]
  },
  {
   "cell_type": "code",
   "execution_count": 4,
   "metadata": {},
   "outputs": [],
   "source": [
    "#load players.json on a 'palers' dataframe\n",
    "with open('/Users/digitalfirst/Desktop/homework_dataFrame/players.json') as f:\n",
    "    d = json.load(f)\n",
    "players = json_normalize(d)\n",
    "\n",
    "#calculate age for every players and put it in a new column in a new row\n",
    "players = players[['currentTeamId','wyId','role.name','shortName', 'birthDate']]\n",
    "players[\"age\"] = players.apply(lambda x: calculate_age(x['birthDate']), axis=1)\n",
    "\n",
    "#filter data on players for differents role (goalkeepers, defedner, mdifielder, forward)\n",
    "goalkeepers=players.loc[players['role.name'] == \"Goalkeeper\"]\n",
    "defender=players.loc[players['role.name'] == \"Defender\"]\n",
    "midfielder=players.loc[players['role.name'] == \"Midfielder\"]\n",
    "forward=players.loc[players['role.name'] == \"Forward\"]\n",
    "\n"
   ]
  },
  {
   "cell_type": "code",
   "execution_count": 5,
   "metadata": {},
   "outputs": [],
   "source": [
    "mean=[]\n",
    "meand_gk=[]\n",
    "mean_defender=[]\n",
    "mean_midfieldr=[]\n",
    "mean_forward=[]\n",
    "championship= [\"Premier league\", \"Liga\", \"Serie A\", \"Bundesliga\",\"Ligue 1\"]\n",
    "\n",
    "\n",
    "df_merge = pd.merge(players,df_teams_england,left_on='currentTeamId', right_on='wyId')\n",
    "Mean_age_england = df_merge[\"age\"].mean()\n",
    "mean.append(Mean_age_england)\n",
    "\n",
    "df_merge = pd.merge(players,df_teams_spain,left_on='currentTeamId', right_on='wyId')\n",
    "Mean_age_spain = df_merge[\"age\"].mean()\n",
    "mean.append(Mean_age_spain)\n",
    "\n",
    "df_merge = pd.merge(players,df_teams_italy,left_on='currentTeamId', right_on='wyId')\n",
    "Mean_age_italy = df_merge[\"age\"].mean()\n",
    "mean.append(Mean_age_italy)\n",
    "\n",
    "df_merge = pd.merge(players,df_teams_germany,left_on='currentTeamId', right_on='wyId')\n",
    "Mean_age_germany = df_merge[\"age\"].mean()\n",
    "mean.append(Mean_age_germany)\n",
    "\n",
    "df_merge = pd.merge(players,df_teams_france,left_on='currentTeamId', right_on='wyId')\n",
    "Mean_age_france = df_merge[\"age\"].mean()\n",
    "mean.append(Mean_age_france)\n",
    "\n",
    "\n",
    "\n",
    "\n",
    "\n",
    "\n",
    "\n",
    "\n",
    "\n",
    "\n"
   ]
  },
  {
   "cell_type": "code",
   "execution_count": 17,
   "metadata": {},
   "outputs": [
    {
     "data": {
      "text/plain": [
       "31.533333333333335"
      ]
     },
     "execution_count": 17,
     "metadata": {},
     "output_type": "execute_result"
    }
   ],
   "source": [
    "df_merge_gk = pd.merge(goalkeepers,df_teams_england,left_on='currentTeamId', right_on='wyId')\n",
    "Mean_age_england_gk = df_merge_gk[\"age\"].mean()\n",
    "meand_gk.append(Mean_age_england_gk)\n",
    "\n",
    "df_merge_gk = pd.merge(goalkeepers,df_teams_spain,left_on='currentTeamId', right_on='wyId')\n",
    "Mean_age_spain_gk = df_merge_gk[\"age\"].mean()\n",
    "meand_gk.append(Mean_age_spain_gk)\n",
    "\n",
    "df_merge_gk = pd.merge(goalkeepers,df_teams_italy,left_on='currentTeamId', right_on='wyId')\n",
    "Mean_age_italy_gk = df_merge_gk[\"age\"].mean()\n",
    "meand_gk.append(Mean_age_italy_gk)\n",
    "\n",
    "df_merge_gk = pd.merge(goalkeepers,df_teams_germany,left_on='currentTeamId', right_on='wyId')\n",
    "Mean_age_germany_gk = df_merge_gk[\"age\"].mean()\n",
    "meand_gk.append(Mean_age_germany_gk)\n",
    "\n",
    "df_merge_gk = pd.merge(goalkeepers,df_teams_france,left_on='currentTeamId', right_on='wyId')\n",
    "Mean_age_france_gk = df_merge_gk[\"age\"].mean()\n",
    "meand_gk.append(Mean_age_france_gk)\n",
    "\n",
    "\n",
    "\n",
    "\n",
    "\n"
   ]
  },
  {
   "cell_type": "code",
   "execution_count": 7,
   "metadata": {},
   "outputs": [],
   "source": [
    "\n",
    "df_merge_defender = pd.merge(defender,df_teams_england,left_on='currentTeamId', right_on='wyId')\n",
    "Mean_age_england_defender = df_merge_defender[\"age\"].mean()\n",
    "mean_defender.append(Mean_age_england_defender)\n",
    "\n",
    "df_merge_defender = pd.merge(defender,df_teams_spain,left_on='currentTeamId', right_on='wyId')\n",
    "Mean_age_spain_defender = df_merge_defender[\"age\"].mean()\n",
    "mean_defender.append(Mean_age_spain_defender)\n",
    "\n",
    "df_merge_defender = pd.merge(defender,df_teams_italy,left_on='currentTeamId', right_on='wyId')\n",
    "Mean_age_italy_defender = df_merge_defender[\"age\"].mean()\n",
    "mean_defender.append(Mean_age_italy_defender)\n",
    "\n",
    "df_merge_defender = pd.merge(defender,df_teams_germany,left_on='currentTeamId', right_on='wyId')\n",
    "Mean_age_germany_defender = df_merge_defender[\"age\"].mean()\n",
    "mean_defender.append(Mean_age_germany_defender)\n",
    "\n",
    "df_merge_defender = pd.merge(defender,df_teams_france,left_on='currentTeamId', right_on='wyId')\n",
    "Mean_age_france_defender = df_merge_defender[\"age\"].mean()\n",
    "mean_defender.append(Mean_age_france_defender)\n",
    "\n",
    "\n",
    "\n",
    "\n",
    "\n"
   ]
  },
  {
   "cell_type": "code",
   "execution_count": 8,
   "metadata": {},
   "outputs": [],
   "source": [
    "df_merge_midfielder = pd.merge(midfielder,df_teams_england,left_on='currentTeamId', right_on='wyId')\n",
    "Mean_age_england_midfielder = df_merge_midfielder[\"age\"].mean()\n",
    "mean_midfieldr.append(Mean_age_england_midfielder)\n",
    "\n",
    "df_merge_midfielder = pd.merge(midfielder,df_teams_spain,left_on='currentTeamId', right_on='wyId')\n",
    "Mean_age_spain_midfielder = df_merge_midfielder[\"age\"].mean()\n",
    "mean_midfieldr.append(Mean_age_spain_midfielder)\n",
    "\n",
    "df_merge_midfielder = pd.merge(midfielder,df_teams_italy,left_on='currentTeamId', right_on='wyId')\n",
    "Mean_age_italy_midfielder = df_merge_midfielder[\"age\"].mean()\n",
    "mean_midfieldr.append(Mean_age_italy_midfielder)\n",
    "\n",
    "df_merge_midfielder = pd.merge(midfielder,df_teams_germany,left_on='currentTeamId', right_on='wyId')\n",
    "Mean_age_germany_midfielder = df_merge_midfielder[\"age\"].mean()\n",
    "mean_midfieldr.append(Mean_age_germany_midfielder)\n",
    "\n",
    "df_merge_midfielder = pd.merge(midfielder,df_teams_france,left_on='currentTeamId', right_on='wyId')\n",
    "Mean_age_france_midfielder = df_merge_midfielder[\"age\"].mean()\n",
    "mean_midfieldr.append(Mean_age_france_midfielder)\n",
    "\n",
    "\n",
    "\n",
    "\n",
    "\n",
    "\n",
    "\n",
    "\n"
   ]
  },
  {
   "cell_type": "code",
   "execution_count": 9,
   "metadata": {},
   "outputs": [],
   "source": [
    "df_merge_forward = pd.merge(forward,df_teams_england,left_on='currentTeamId', right_on='wyId')\n",
    "Mean_age_england_forward = df_merge_forward[\"age\"].mean()\n",
    "mean_forward.append(Mean_age_england_forward)\n",
    "\n",
    "df_merge_forward = pd.merge(forward,df_teams_spain,left_on='currentTeamId', right_on='wyId')\n",
    "Mean_age_spain_forward = df_merge_forward[\"age\"].mean()\n",
    "mean_forward.append(Mean_age_spain_forward)\n",
    "\n",
    "\n",
    "df_merge_forward = pd.merge(forward,df_teams_italy,left_on='currentTeamId', right_on='wyId')\n",
    "Mean_age_italy_forward = df_merge_forward[\"age\"].mean()\n",
    "mean_forward.append(Mean_age_italy_forward)\n",
    "\n",
    "df_merge_forward = pd.merge(forward,df_teams_germany,left_on='currentTeamId', right_on='wyId')\n",
    "Mean_age_germany_forward = df_merge_forward[\"age\"].mean()\n",
    "mean_forward.append(Mean_age_germany_forward)\n",
    "\n",
    "df_merge_forward = pd.merge(forward,df_teams_france,left_on='currentTeamId', right_on='wyId')\n",
    "Mean_age_england_forward = df_merge_forward[\"age\"].mean()\n",
    "mean_forward.append(Mean_age_england_forward)"
   ]
  },
  {
   "cell_type": "code",
   "execution_count": 11,
   "metadata": {},
   "outputs": [
    {
     "data": {
      "image/png": "[encoded data removed]",
      "text/plain": [
       "<Figure size 432x288 with 1 Axes>"
      ]
     },
     "metadata": {
      "needs_background": "light"
     },
     "output_type": "display_data"
    }
   ],
   "source": [
    "#total mean\n",
    "ax = sns.barplot(x=championship, y=mean)\n",
    "ax.set(ylim=(25, 29))\n",
    "for p in ax.patches:\n",
    "    ax.annotate(format(p.get_height(), '.2f'), (p.get_x() + p.get_width() / 2., p.get_height()), ha = 'center', va = 'center', xytext = (0, 10), textcoords = 'offset points')\n",
    "\n"
   ]
  },
  {
   "cell_type": "code",
   "execution_count": 12,
   "metadata": {},
   "outputs": [
    {
     "data": {
      "image/png": "[encoded data removed]",
      "text/plain": [
       "<Figure size 432x288 with 1 Axes>"
      ]
     },
     "metadata": {
      "needs_background": "light"
     },
     "output_type": "display_data"
    }
   ],
   "source": [
    "#mean by gk\n",
    "ax = sns.barplot(x=championship, y=meand_gk)\n",
    "ax.set(ylim=(26, 33))\n",
    "for p in ax.patches:\n",
    "    ax.annotate(format(p.get_height(), '.2f'), (p.get_x() + p.get_width() / 2., p.get_height()), ha = 'center', va = 'center', xytext = (0, 10), textcoords = 'offset points')\n",
    "\n"
   ]
  },
  {
   "cell_type": "code",
   "execution_count": 13,
   "metadata": {},
   "outputs": [
    {
     "data": {
      "image/png": "[encoded data removed]",
      "text/plain": [
       "<Figure size 432x288 with 1 Axes>"
      ]
     },
     "metadata": {
      "needs_background": "light"
     },
     "output_type": "display_data"
    }
   ],
   "source": [
    "#mean by defender\n",
    "ax = sns.barplot(x=championship, y=mean_defender)\n",
    "ax.set(ylim=(25, 30))\n",
    "for p in ax.patches:\n",
    "    ax.annotate(format(p.get_height(), '.2f'), (p.get_x() + p.get_width() / 2., p.get_height()), ha = 'center', va = 'center', xytext = (0, 10), textcoords = 'offset points')\n",
    "\n"
   ]
  },
  {
   "cell_type": "code",
   "execution_count": 14,
   "metadata": {},
   "outputs": [
    {
     "data": {
      "image/png": "[encoded data removed]",
      "text/plain": [
       "<Figure size 432x288 with 1 Axes>"
      ]
     },
     "metadata": {
      "needs_background": "light"
     },
     "output_type": "display_data"
    }
   ],
   "source": [
    "#mean by midfielder\n",
    "ax = sns.barplot(x=championship, y=mean_midfieldr)\n",
    "ax.set(ylim=(25, 28.5))\n",
    "for p in ax.patches:\n",
    "    ax.annotate(format(p.get_height(), '.2f'), (p.get_x() + p.get_width() / 2., p.get_height()), ha = 'center', va = 'center', xytext = (0, 10), textcoords = 'offset points')\n",
    "\n"
   ]
  },
  {
   "cell_type": "code",
   "execution_count": 19,
   "metadata": {
    "scrolled": true
   },
   "outputs": [
    {
     "data": {
      "image/png": "[encoded data removed]",
      "text/plain": [
       "<Figure size 432x288 with 1 Axes>"
      ]
     },
     "metadata": {
      "needs_background": "light"
     },
     "output_type": "display_data"
    }
   ],
   "source": [
    "#mean by forward\n",
    "ax = sns.barplot(x=championship, y=mean_forward)\n",
    "ax.set(ylim=(25, 28.5))\n",
    "for p in ax.patches:\n",
    "    ax.annotate(format(p.get_height(), '.2f'), (p.get_x() + p.get_width() / 2., p.get_height()), ha = 'center', va = 'center', xytext = (0, 10), textcoords = 'offset points')\n",
    "\n"
   ]
  },
  {
   "cell_type": "code",
   "execution_count": null,
   "metadata": {},
   "outputs": [],
   "source": []
  }
 ],
 "metadata": {
  "kernelspec": {
   "display_name": "Python 3",
   "language": "python",
   "name": "python3"
  },
  "language_info": {
   "codemirror_mode": {
    "name": "ipython",
    "version": 3
   },
   "file_extension": ".py",
   "mimetype": "text/x-python",
   "name": "python",
   "nbconvert_exporter": "python",
   "pygments_lexer": "ipython3",
   "version": "3.7.3"
  }
 },
 "nbformat": 4,
 "nbformat_minor": 2
}
